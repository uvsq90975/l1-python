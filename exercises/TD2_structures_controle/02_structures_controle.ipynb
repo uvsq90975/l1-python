{
 "cells": [
  {
   "cell_type": "markdown",
   "metadata": {
    "slideshow": {
     "slide_type": "slide"
    }
   },
   "source": [
    "# TD 2: Les structures de contrôle\n",
    "\n",
    "---\n",
    "\n",
    "## 0. Récupération des nouveaux documents\n",
    "\n",
    "\n",
    "Les sujets de TD ainsi que les supports de cours sont publiés en ligne au fur et à mesure sur l'espace github original [https://github.com/uvsq-info/l1-python](https://github.com/uvsq-info/l1-python). Au moment où vous avez fait le fork de cet espace sur votre espace personnel, il est probable que tous les contenus n'étaient pas présents. Pour compléter votre espace, deux solutions sont possibles:\n",
    "\n",
    "\n",
    "1. (solution à privilégier) aller sur la page du projet original [https://github.com/uvsq-info/l1-python](https://github.com/uvsq-info/l1-python), et cliquer sur le bouton vert `Code` en haut à droite. Choisir `download ZIP`, puis extraire l'ensemble des nouveaux fichiers vers votre projet personnel local. Vous pouvez ensuite sauvegarder ces ajouts dans votre espace github personnel en suivant la procédure habituelle.\n",
    "2. (solution qui présente des risques de conflits entre différentes versions d'un même document) en ligne de commande dans le terminal, en suivant la procédure de la section *Intégrer les mises à jour du projet original* du fichier [README.md](https://github.com/uvsq-info/l1-python/blob/master/README.md#int%C3%A9grer-les-mises-%C3%A0-jour-du-projet-original)\n"
   ]
  },
  {
   "source": [
    "---\n",
    "\n",
    "## 1. Premiers exercices avec les structures conditionnelles\n",
    "\n",
    "**Exercice 1:**\n",
    "\n",
    "1. Soit *num1 = 15* et *num2 = 5*. Ecrire un programme qui affiche *Factors!* si l'un des nombres est un facteur de l'autre (c'est-à-dire qu'il divise l'autre nombre). Si aucun des nombres n'est un facteur de l'autre, le programme n'affiche rien.\n",
    "2. Changer le code que vous avez écrit de telle sorte qu'il affiche toujours *Factors!* si un nombre est un facteur de l'autre, mais qui affiche aussi *Not factors!* si aucun des nombres n'est un facteur de l'autre."
   ],
   "cell_type": "code",
   "metadata": {
    "slideshow": {
     "slide_type": "slide"
    }
   },
   "execution_count": null,
   "outputs": []
  },
  {
   "cell_type": "code",
   "execution_count": null,
   "metadata": {
    "slideshow": {
     "slide_type": "notes"
    },
    "tags": []
   },
   "outputs": [],
   "source": [
    "num1 = 25\n",
    "num2 = 501\n",
    "\n",
    "if num1 % num2 == 0 or num2 % num1 == 0 :\n",
    "    print(\"Factors!\")\n",
    "else :\n",
    "    print(\"Not Factors!\")"
   ]
  },
  {
   "cell_type": "markdown",
   "metadata": {
    "slideshow": {
     "slide_type": "slide"
    }
   },
   "source": [
    "**Exercice 2:**\n",
    "    \n",
    "Soit *state = \"Georgia\"*. Ecrire un programme qui permet d'afficher un message spécifique en fonction de la variable *state* :  \n",
    "* \"School isn't cancelled.\" si nous sommes à New Jersey,  \n",
    "* \"School is postponed.\" si nous sommes à North Carolina,\n",
    "* \"School is cancelled!\" si nous sommes à Georgia,  \n",
    "* \"School's status is unknown\" si nous ne sommes pas dans un des trois états précédemment mentionnés."
   ]
  },
  {
   "cell_type": "code",
   "execution_count": null,
   "metadata": {
    "slideshow": {
     "slide_type": "notes"
    },
    "tags": []
   },
   "outputs": [],
   "source": [
    "state =\"New \"\n",
    "if state == \"New Jersey\" :\n",
    "    print(\"School isn't cancelled.\")\n",
    "elif state == \"North Carolina\" :\n",
    "    print(\"School is postponed.\")\n",
    "elif state == \"Georgia\" :\n",
    "    print(\"School is cancelled.\")\n",
    "else :\n",
    "    print(\"School's status is unknown\")\n"
   ]
  },
  {
   "source": [
    "**Exercice 3:**\n",
    "\n",
    "Ecrire un programme pour découvrir le signe du zodiaque chinois pour une année donnée. Le signe du zodiaque chinois est basé sur un cycle de 12 ans et chaque année de ce cycle est représentée par un animal :\n",
    "* 0: monkey\n",
    "* 1: rooster\n",
    "* 2: dog\n",
    "* 3: pig\n",
    "* 4: rat\n",
    "* 5: ox\n",
    "* 6: tiger\n",
    "* 7: rabbit\n",
    "* 8: dragon\n",
    "* 9: snake\n",
    "* 10: horse\n",
    "* 11: sheep\n",
    "\n",
    "La valeur de l'année % 12 détermine le signe du zodiaque. Par exemple, 1900 est l'année du *rat* puisque 1900 % 12 est 4."
   ],
   "cell_type": "code",
   "metadata": {
    "slideshow": {
     "slide_type": "slide"
    }
   },
   "execution_count": null,
   "outputs": []
  },
  {
   "cell_type": "code",
   "execution_count": null,
   "metadata": {
    "slideshow": {
     "slide_type": "notes"
    },
    "tags": []
   },
   "outputs": [],
   "source": [
    "a = 2002\n",
    "\n",
    "if a % 12 == 0 :\n",
    "    print(\"Monkey\")\n",
    "elif a % 12 == 1 :\n",
    "    print(\"Rooster\")\n",
    "    \n"
   ]
  },
  {
   "source": [
    "**Exercice 4:**\n",
    "\n",
    "Soit *temperature = -3.7* et *celsius = True*. *celsius* est une variable booléenne qui indique si la température est en Celsius; si c'est *False*, alors la température donnée est en Fahrenheit. Ecrire un premier programme en utilisant *if-else* seulement qui permet d'afficher *Freezing* si les valeurs données représentent une température très basse, et *Not freezing* si ce n'est pas le cas. En Celsius, on considère qu'il fait très froid lorsque la température est inférieure ou égale à 0 degré. En Fahrenheit, on considère qu'il fait très froid lorsque la température est inférieure ou égale à 32 degrés. Proposer une seconde solution en utilisant *if-elif-else* à ce même problème."
   ],
   "cell_type": "code",
   "metadata": {
    "slideshow": {
     "slide_type": "slide"
    }
   },
   "execution_count": null,
   "outputs": []
  },
  {
   "cell_type": "code",
   "execution_count": null,
   "metadata": {
    "slideshow": {
     "slide_type": "notes"
    },
    "tags": []
   },
   "outputs": [],
   "source": [
    "T = 5\n",
    "celsius = True\n",
    "\n",
    "if (celsius == True and T < 0) or (celsius == False and T < 32) :\n",
    "    print(\"Freezing\")\n",
    "else :\n",
    "    print(\"Not Freezing\")\n"
   ]
  },
  {
   "source": [
    "**Exercice 5:**\n",
    "    \n",
    "Ecrire un programme qui permet de déterminer si une année est bissextile ou non en utilisant une seule instruction *if-else*. Une année *A* est bissextile si *A* est divisible par 4. Elle ne l’est cependant pas si *A* est un multiple\n",
    "de 100, à moins que *A* ne soit multiple de 400.    "
   ],
   "cell_type": "code",
   "metadata": {
    "slideshow": {
     "slide_type": "slide"
    }
   },
   "execution_count": null,
   "outputs": []
  },
  {
   "source": [
    "A = 1200\n",
    "\n",
    "if A % 4 == 0  and (A % 100 != 0 or A % 400 == 0)  :\n",
    "    print(\"Bissextile\")\n",
    "else :\n",
    "    print(\"Not bissextile\")\n",
    "\n"
   ],
   "cell_type": "code",
   "metadata": {
    "slideshow": {
     "slide_type": "notes"
    },
    "tags": []
   },
   "execution_count": null,
   "outputs": []
  },
  {
   "source": [
    "---\n",
    "\n",
    "## 2. Premiers exercices avec les structures itératives\n",
    "\n",
    "**Exercice 6:**\n",
    "\n",
    "1. Ecrire un programme qui permet d'afficher tous les nombres entre 1 et 10 (bornes incluses).\n",
    "2. Ecrire un programme se limitant à la boucle *for* qui permet d'afficher tous les nombres pairs entre 1 et 20 (bornes incluses). Proposer une deuxième solution en incluant une structure conditionnelle."
   ],
   "cell_type": "code",
   "metadata": {},
   "execution_count": null,
   "outputs": []
  },
  {
   "source": [
    "for i in range(1,21) :\n",
    "    if i % 2 == 0 :\n",
    "        print(i)"
   ],
   "cell_type": "code",
   "metadata": {
    "tags": []
   },
   "execution_count": null,
   "outputs": []
  },
  {
   "cell_type": "code",
   "execution_count": null,
   "metadata": {},
   "outputs": [],
   "source": [
    "for i in range(10) :\n",
    "    print(2*(i+1))\n"
   ]
  },
  {
   "cell_type": "code",
   "execution_count": null,
   "metadata": {
    "tags": []
   },
   "outputs": [],
   "source": []
  },
  {
   "source": [
    "**Exercice 7:**\n",
    "    \n",
    "1. Ecrire un programme qui demande à l'utilisateur de saisir *n* nombres, *n* étant choisi par l'utilisateur, puis d'afficher la moyenne de ces nombres.\n",
    "\n",
    "2. Même question, mais l'utilisateur ne choisit pas à l'avance le nombre *n*, la procédure s'arrête quand il saisit le nombre -1.\n"
   ],
   "cell_type": "code",
   "metadata": {},
   "execution_count": null,
   "outputs": []
  },
  {
   "cell_type": "code",
   "execution_count": null,
   "metadata": {
    "tags": []
   },
   "outputs": [],
   "source": [
    "n = 3\n",
    "\n",
    "s = 0\n",
    "for i in range(n) :\n",
    "    x = float(input(\"Entrer un nombre\"))\n",
    "    print(\"Nombre\", i+1, \" : \", x)\n",
    "    s = s + x\n",
    "\n",
    "print()\n",
    "print(\"Moyenne = \", s/n)\n"
   ]
  },
  {
   "cell_type": "code",
   "execution_count": null,
   "metadata": {
    "tags": []
   },
   "outputs": [],
   "source": [
    "x = int(input(\"Entrer un nombre\"))\n",
    "s=0\n",
    "n=1\n",
    "print(\"Nombre\", n, \" : \", x)\n",
    "\n",
    "while x != -1 :\n",
    "    s = s + x\n",
    "    x = int(input(\"Entrer un nombre\"))\n",
    "    n = n + 1\n",
    "    print(\"Nombre\", n, \" : \", x)\n",
    "\n",
    "print()\n",
    "print(\"Moyenne = \", s / (n-1))"
   ]
  },
  {
   "cell_type": "code",
   "execution_count": null,
   "metadata": {},
   "outputs": [],
   "source": [
    "n = 100\n",
    "\n",
    "s = 0\n",
    "j = 0\n",
    "for i in range(n) :\n",
    "    x = float(input(\"Entrer un nombre\"))\n",
    "    j = j + 1\n",
    "    s = s + x\n",
    "    if x == -1 :\n",
    "        break\n",
    "    print(\"Nombre\", i+1, \" : \", x)\n",
    "    \n",
    "\n",
    "print()\n",
    "print(\"Moyenne = \", (s+1)/(j-1))"
   ]
  },
  {
   "source": [
    "**Exercice 8:**\n",
    "\n",
    "Ecrire un programme qui permet de calculer le factoriel d'un nombre positif donné par l'utlisateur selon la formule suivante : \n",
    "n! = 1 x 2 x ... x n.  \n",
    "\n",
    "1. Une première version en utilisant la boucle *for*\n",
    "2. Une seconde version en utilisant la boucle *while*"
   ],
   "cell_type": "code",
   "metadata": {},
   "execution_count": null,
   "outputs": []
  },
  {
   "cell_type": "code",
   "execution_count": null,
   "metadata": {
    "tags": []
   },
   "outputs": [],
   "source": [
    "n = 5\n",
    "\n",
    "fact = 1\n",
    "for i in range(1,n+1) :\n",
    "    fact = fact * i\n",
    "\n",
    "print(fact)\n"
   ]
  },
  {
   "cell_type": "code",
   "execution_count": null,
   "metadata": {
    "tags": []
   },
   "outputs": [],
   "source": [
    "n = 4\n",
    "\n",
    "i=1\n",
    "fact = 1\n",
    "while i != n :\n",
    "    i = i + 1\n",
    "    fact = fact * i\n",
    "\n",
    "print(fact)\n"
   ]
  },
  {
   "cell_type": "code",
   "execution_count": null,
   "metadata": {},
   "outputs": [],
   "source": [
    "n = 4\n",
    "\n",
    "i=n\n",
    "fact = n\n",
    "while i != 1 :\n",
    "    i = i - 1\n",
    "    fact = fact * i\n",
    "\n",
    "print(fact)"
   ]
  },
  {
   "source": [
    "---\n",
    "\n",
    "## 3. Pour aller plus loin\n",
    "\n",
    "**Excercice 9:**\n",
    "\n",
    "Ecrire un programme qui permet de connaître le jour de naissance de l'utilisateur en posant cinq questions.\n",
    "Chaque question demande si le jour est dans l'un des cinq ensembles suivants :\n",
    "\n",
    "* Set 1: [1 3 5 7 9 11 13 15 17 19 21 23 25 27 29 31]\n",
    "* Set 2: [2 3 6 7 10 11 14 15 18 19 22 23 26 27 30 31]\n",
    "* Set 3: [4 5 6 7 12 13 14 15 20 21 22 23 28 29 30 31]\n",
    "* Set 4: [8 9 10 11 12 13 14 15 24 25 26 27 28 29 30 31]\n",
    "* Set 5: [16 17 18 19 20 21 22 23 24 25 26 27 28 29 30 31]\n",
    "    \n",
    "\n",
    "Le jour de naissance est la somme des premiers nombres dans les ensembles où le jour apparaît. Par exemple,\n",
    "si le jour de naissance est 19, il apparaît dans Set 1, Set 2 et Set 5. Les premiers chiffres de ces trois ensembles sont 1, 2 et 16. Leur somme est 19."
   ],
   "cell_type": "code",
   "metadata": {
    "slideshow": {
     "slide_type": "slide"
    }
   },
   "execution_count": null,
   "outputs": []
  },
  {
   "cell_type": "code",
   "execution_count": null,
   "metadata": {
    "slideshow": {
     "slide_type": "notes"
    },
    "tags": []
   },
   "outputs": [],
   "source": [
    "Set1 = [1, 3, 5, 7, 9, 11, 13, 15, 17, 19, 21, 23, 25, 27, 29, 31]\n",
    "Set2 = [2, 3, 6, 7, 10, 11, 14, 15, 18, 19, 22, 23, 26, 27, 30, 31]\n",
    "Set3 = [4, 5, 6, 7, 12, 13, 14, 15, 20, 21, 22, 23, 28, 29, 30, 31]\n",
    "Set4 = [8, 9, 10, 11, 12, 13, 14, 15, 24, 25, 26, 27, 28, 29, 30, 31]\n",
    "Set5 = [16, 17, 18, 19, 20, 21, 22, 23, 24, 25, 26, 27, 28, 29, 30, 31]\n",
    "\n",
    "r1 = int(input(\"Taper 0 ou 1 si le jour de naissance apparait dans Set1 : \"))\n",
    "r2 = int(input(\"Taper 0 ou 1 si le jour de naissance apparait dans Set2 : \"))\n",
    "r3 = int(input(\"Taper 0 ou 1 si le jour de naissance apparait dans Set3 : \"))\n",
    "r4 = int(input(\"Taper 0 ou 1 si le jour de naissance apparait dans Set4 : \"))\n",
    "r5 = int(input(\"Taper 0 ou 1 si le jour de naissance apparait dans Set5 : \"))\n",
    "\n",
    "a = 0\n",
    "if r1 == 1 :\n",
    "    a = a + Set1[0]\n",
    "if r2 == 1 :\n",
    "    a = a + Set2[0]\n",
    "if r3 == 1 :\n",
    "    a = a + Set3[0]\n",
    "if r4 == 1 :\n",
    "    a = a + Set4[0]\n",
    "if r5 == 1 :\n",
    "    a = a + Set5[0]\n",
    "\n",
    "print(\"Age =\",a)\n"
   ]
  },
  {
   "cell_type": "markdown",
   "metadata": {
    "slideshow": {
     "slide_type": "slide"
    }
   },
   "source": [
    "**Excercice 10:**\n",
    "\n",
    "Ecrire un programme qui permet de génèrer de manière aléatoire un nombre à deux chiffres, invite l'utilisateur à saisir un nombre à deux chiffres et détermine si l'utilisateur gagne selon les règles suivantes :\n",
    "* Si l'entrée de l'utilisateur correspond à la loterie (le nombre généré aléatoirement) dans l'ordre exact, la récompense est de 10 000€.\n",
    "* Sinon, si les deux chiffres entrés par l'utilisateur correspondent aux deux chiffres du numéro de loterie, la récompense est de 3 000€.\n",
    "* Sinon, si un chiffre dans l'entrée de l'utilisateur correspond à un chiffre dans le numéro de loterie, la récompense est de 1 000€.\n",
    "\n",
    "**Astuce :** Utiliser la fonction **random.randint(0, 99)** pour génèrer de manière aléatoire un nombre à deux chiffres. Cette fonction doit être accompagné par **import random** comme première instruction dans le code."
   ]
  },
  {
   "source": [
    "import random\n",
    "\n",
    "s = str(random.randint(10,99))\n",
    "print(\"Solution :\", s)\n",
    "print()\n",
    "\n",
    "r = input(\"Entrer un nombre entre 10 et 99 :\")\n",
    "print(\"Réponse :\", r)\n",
    "\n",
    "if r[0] == s[0] and r[1] == s[1] :\n",
    "    print(\"10 000 €\")\n",
    "elif r[0] == s[1] and r[1] == s[0] :\n",
    "    print(\"3 000 €\")\n",
    "elif r[0] == s[0] or r[0] == s[1] or r[1] == s[0] or r[1] == s[1] :\n",
    "    print(\"1000 €\")\n",
    "    "
   ],
   "cell_type": "code",
   "metadata": {
    "slideshow": {
     "slide_type": "notes"
    },
    "tags": []
   },
   "execution_count": null,
   "outputs": []
  },
  {
   "source": [
    "**Exercice 11:**\n",
    "    \n",
    "Ecrire un programme qui permet de calculer la somme des chiffres d'un entier *n* donné. Le nombre *n* doit être compris entre 10 et 20 (bornes incluses)."
   ],
   "cell_type": "markdown",
   "metadata": {}
  },
  {
   "source": [
    "n = input(\"Entrer un entier entre 10 et 20 :\")\n",
    "print(n)\n",
    "\n",
    "s = int(n[0]) + int(n[1])\n",
    "print(\"Somme :\", s)\n",
    "\n"
   ],
   "cell_type": "code",
   "metadata": {
    "tags": []
   },
   "execution_count": null,
   "outputs": []
  },
  {
   "source": [
    "Exercice 12:\n",
    "\n",
    "Ecrire un programme qui permet de générer aléatoirement deux nombres entre 0 et 9, de calculer leurs différences (en valeur absolue), puis d'inviter l'utilisateur à répondre à la question suivante que vaut abs(number1 - number2)?. Le programme doit permettre à l'utilisateur de répondre plusieurs fois jusqu'à la saisie de la bonne réponse.\n",
    "Modifier le programme précédent de telle sorte qu'il génère cinq occurences à la suite invitant à répondre à la question précédente. A la fin, le programme affiche le nombre moyen de tentatives qu'il a fallu à l'utilisateur pour répondre à une question."
   ],
   "cell_type": "markdown",
   "metadata": {}
  },
  {
   "source": [
    "import random\n",
    "\n",
    "n1 = random.randint(0, 9)\n",
    "n2 = random.randint(0, 9)\n",
    "\n",
    "if n1 > n2 :\n",
    "    dif = n1 - n2\n",
    "else :\n",
    "    dif = n2 - n1\n",
    "\n",
    "print(\"|\", n1, \"-\", n2, \"|\", \"=\", dif)\n",
    "print()\n",
    "\n",
    "r = -1\n",
    "\n",
    "while r != dif :\n",
    "    r = int(input(\"Donner la différence :\"))\n",
    "    print(r)\n",
    "\n",
    "print(\"Gagné !\")\n"
   ],
   "cell_type": "code",
   "metadata": {
    "tags": []
   },
   "execution_count": null,
   "outputs": []
  },
  {
   "cell_type": "code",
   "execution_count": null,
   "metadata": {},
   "outputs": [],
   "source": [
    "import random\n",
    "\n",
    "t = 0\n",
    "\n",
    "for i in range(3) :\n",
    "    print(\"TENTATIVE\", i+1)\n",
    "\n",
    "    n1 = random.randint(0, 9)\n",
    "    n2 = random.randint(0, 9)\n",
    "\n",
    "    if n1 > n2 :\n",
    "        dif = n1 - n2\n",
    "    else :\n",
    "        dif = n2 - n1\n",
    "\n",
    "    print(\"|\", n1, \"-\", n2, \"|\", \"=\", dif)\n",
    "    print()\n",
    "\n",
    "    r = -1\n",
    "\n",
    "    while r != dif :\n",
    "        r = int(input(\"Donner la différence :\"))\n",
    "        print(r)\n",
    "        t = t + 1\n",
    "\n",
    "    print(\"Gagné !\")\n",
    "    print()\n",
    "\n",
    "print(\"MOYENNE = \", t/3)"
   ]
  },
  {
   "source": [
    "**Exercice 13:**\n",
    "\n",
    "Ecrire un programme qui permet de calculer le nombre de mots dans une phrase saisie par l'utilisateur."
   ],
   "cell_type": "markdown",
   "metadata": {}
  },
  {
   "cell_type": "code",
   "execution_count": 105,
   "metadata": {
    "tags": []
   },
   "outputs": [
    {
     "output_type": "stream",
     "name": "stdout",
     "text": [
      "Longueur : 27\nNombre de mots :  5\n"
     ]
    }
   ],
   "source": [
    "t = \"Bonjour,  il faut beau ici.\"\n",
    "L = len(t)\n",
    "print(\"Longueur :\", L)\n",
    "\n",
    "n=1\n",
    "for i in range(L) :\n",
    "    if t[i] == \" \" and t[i+1] != \" \" :\n",
    "        n = n + 1\n",
    "\n",
    "print(\"Nombre de mots : \", n)\n",
    "\n"
   ]
  },
  {
   "cell_type": "markdown",
   "metadata": {
    "slideshow": {
     "slide_type": "slide"
    }
   },
   "source": [
    "---\n",
    "\n",
    "## 4. Pour s'entraîner\n",
    "\n",
    "**Exercice 14:**\n",
    "    \n",
    "Soit la variable my_input = \"zoophysiology\". Ecrire un script qui permet d'afficher l'un des messages suivants en fonction du nombre maximum de *o* consécutifs dans la variable *my_input*. Par exemple, le script doit afficher \"I like studying birds! I want to become an ornithologist!\" parce qu'il y a deux *o* consécutifs, même s'il y a aussi des *o* individual.\n",
    "Ignorer les *o* majuscules - recherchez que les *o* minuscules.\n",
    "\n",
    "* Si \"o\" apparaît trois fois ou plus de suite, afficher le message \"I like going to the zoo!\"  \n",
    "* Si \"o\" apparaît deux fois, afficher le message \"I like studying birds! I want to become an ornithologist!\"  \n",
    "* Si \"o\" apparaît une seule fois, afficher le message \"I like studying fish! I want to become an ichthyologist!\"  \n",
    "* Si \"o\" n'apparaît pas dans la variable *my_input*, afficher le message \"I miss going to the zoo!\"  \n",
    "\n",
    "**Astuce :** Utiliser l'opérateur **in** qui renvoie **True** si la première chaîne se trouve dans la deuxième chaîne. "
   ]
  },
  {
   "cell_type": "code",
   "execution_count": 112,
   "metadata": {
    "slideshow": {
     "slide_type": "notes"
    }
   },
   "outputs": [
    {
     "output_type": "stream",
     "name": "stdout",
     "text": [
      "I like going to the zoo!\n"
     ]
    }
   ],
   "source": [
    "m = \"zmoooooooooooooooooooooooooooooooooooooooooooommm\"\n",
    "\n",
    "if \"ooo\" in m :\n",
    "    print(\"I like going to the zoo!\")\n",
    "elif \"oo\" in m :\n",
    "    print(\"I like studying birds! I want to become an ornithologist!\")\n",
    "elif \"o\" in m :\n",
    "    print(\"I like studying fish! I want to become an ichthyologist!\")\n",
    "else :\n",
    "    print(\"I miss going to the zoo!\")\n",
    "\n"
   ]
  },
  {
   "cell_type": "markdown",
   "metadata": {
    "slideshow": {
     "slide_type": "slide"
    }
   },
   "source": [
    "**Exercice 15:**\n",
    "    \n",
    "Créer quatre variables nommées *team_1* et *team_2*, représentant deux noms d'équipes, et *team_1_score* et *team_2_score*, représentant les scores de ces deux équipes. \n",
    "Une équipe gagne si son score est supérieur à l'autre score de l'autre équipe.\n",
    " \n",
    "Ecrire un premier script qui permet d'afficher les messages suivants selon les valeurs entrées, ceci en utilisant seulement les quatres variables créées :\n",
    "* Si une équipe bat l'autre, affichez: \"[winner] beat [loser] by [margin]\"\n",
    "* Si aucune des équipes n'a gagné, affichez: \"[team_1] played [team_2] and it was a tie\"\n",
    "\n",
    "Ecrire un deuxième script qui permet d'afficher les mêmes messages mais en ajoutant trois variables de plus :\n",
    "* La variable *winner* pour définir l'équipe gagnante  \n",
    "* La variable *loser* pour définier l'équipe perdante  \n",
    "* La variable *margin* pour définir la différence entre les deux scores \n"
   ]
  },
  {
   "cell_type": "code",
   "execution_count": 117,
   "metadata": {
    "slideshow": {
     "slide_type": "notes"
    }
   },
   "outputs": [
    {
     "output_type": "stream",
     "name": "stdout",
     "text": [
      "Tiger beat Fish by 5\n"
     ]
    }
   ],
   "source": [
    "t1 = \"Tiger\"\n",
    "t2 = \"Fish\"\n",
    "\n",
    "s1 = 15\n",
    "s2 = 10\n",
    "\n",
    "\n",
    "\n",
    "\n",
    "if s1 > s2 :\n",
    "    winner = t1\n",
    "    looser = t2\n",
    "    margin = s1 - s2\n",
    "    print(winner, \"beat\", looser, \"by\", margin)\n",
    "elif s2 > s1 :\n",
    "    print(t2, \"beat\", t1, \"by\", s2 - s1)\n",
    "else :\n",
    "    print(t1, \"played\", t2, \"and it was a tie\")\n",
    "\n"
   ]
  },
  {
   "cell_type": "code",
   "execution_count": null,
   "metadata": {
    "slideshow": {
     "slide_type": "notes"
    }
   },
   "outputs": [],
   "source": [
    "\n",
    "\n"
   ]
  },
  {
   "cell_type": "markdown",
   "metadata": {
    "slideshow": {
     "slide_type": "slide"
    }
   },
   "source": [
    "**Exercice 16:**\n",
    "    \n",
    "L'Indice de Masse Corporelle (IMC) permet d'estimer le poids idéal en fonction de la taille. Son calcul correspond au poids en kilogrammes divisé par le carré de la taille en mètre (IMC = poids en kg/taille² en m). Le chiffre obtenu permet d'estimer la corpulence et éventuellement le surpoids ou l'obésité chez l'adulte, homme ou femme.\n",
    "L'interprétation de l'IMC pour les personnes de 16 ans et plus est la suivante :\n",
    "* Moins de 18.5: Underweight\n",
    "* Entre 18.5 et 24.9: Normal\n",
    "* Entre 25.0 et 29.9: Overweight\n",
    "* Plus que 30.0: Obese\n",
    "\n",
    "Ecrire un programme qui permet de saisir un poids en *pounds* et une taille en *inches*, de calculer et d'afficher l'IMC à deux valeurs après la virgule, et d'afficher l'interprétation la plus adéquate. Notez qu'un *pound* équivaut à 0,45359237 kilogrammes et qu'un *inch* équivaut à 0,0254 mètre.  \n",
    "\n",
    "**Astuce :** Pour afficher deux valeurs après la virgule, utilisez la fonction **format(nom_variable, \".2f\")**. Exemple : **print('La moyenne est :', format(moyenne, \".2f\"))**"
   ]
  },
  {
   "cell_type": "code",
   "execution_count": 128,
   "metadata": {
    "slideshow": {
     "slide_type": "notes"
    }
   },
   "outputs": [
    {
     "output_type": "stream",
     "name": "stdout",
     "text": [
      "Taille = 1.8 m = 70.87 inches\nPoids =  50 kg =  110.23 pounds\nIMC =  15.4\nUnderweight\n"
     ]
    }
   ],
   "source": [
    "t = 1.80\n",
    "print(\"Taille =\", t, \"m =\", format(t/0.0254, \".2f\"), \"inches\")\n",
    "m = 50\n",
    "print(\"Poids = \", m, \"kg = \", format(m/0.45359237, \".2f\"), \"pounds\" )\n",
    "\n",
    "IMC = m / t**2\n",
    "print(\"IMC = \", format(IMC, \".1f\"))\n",
    "\n",
    "if IMC < 18.5 :\n",
    "    print(\"Underweight\")\n",
    "elif 18.5 < IMC and IMC < 24.9 :\n",
    "    print(\"Normal\")\n",
    "elif 25.0 < IMC and IMC < 29.9 :\n",
    "    print(\"Overweight\")\n",
    "else :\n",
    "    print(\"Obese\")\n"
   ]
  },
  {
   "source": [
    "**Exercice 17:**\n",
    "\n",
    "Ecrire un programme qui affiche un triangle d'étoiles de taille donnée, par exemple si on entre 6, le programme affiche:\n",
    "```\n",
    "*\n",
    "**\n",
    "***\n",
    "****\n",
    "*****\n",
    "******\n",
    "```"
   ],
   "cell_type": "markdown",
   "metadata": {}
  },
  {
   "cell_type": "code",
   "execution_count": 134,
   "metadata": {
    "tags": []
   },
   "outputs": [
    {
     "output_type": "stream",
     "name": "stdout",
     "text": [
      "*\n**\n***\n****\n*****\n******\n*******\n********\n*********\n**********\n"
     ]
    }
   ],
   "source": [
    "n = 10\n",
    "\n",
    "for i in range(1, n+1) :\n",
    "    print(i*\"*\")\n",
    "\n",
    "\n"
   ]
  },
  {
   "source": [
    "**Exercice 18:**\n",
    "\n",
    "Même exercice mais cette fois la sortie est\n",
    "```\n",
    "     *\n",
    "    **         \n",
    "   ***\n",
    "  ****\n",
    " *****\n",
    "******\n",
    "```"
   ],
   "cell_type": "markdown",
   "metadata": {}
  },
  {
   "cell_type": "code",
   "execution_count": 135,
   "metadata": {
    "tags": []
   },
   "outputs": [
    {
     "output_type": "stream",
     "name": "stdout",
     "text": [
      "         *\n        **\n       ***\n      ****\n     *****\n    ******\n   *******\n  ********\n *********\n**********\n"
     ]
    }
   ],
   "source": [
    "n = 10\n",
    "\n",
    "for i in range(1, n+1) :\n",
    "    print((n-i)*\" \" + i*\"*\")\n"
   ]
  },
  {
   "source": [
    "**Exercice 19:**\n",
    "\n",
    "Ecrire un programme qui calcule, étant donné un entier *n* rentré par l'utilisateur, la plus grande puissance de *n* inférieure à un million."
   ],
   "cell_type": "markdown",
   "metadata": {}
  },
  {
   "cell_type": "code",
   "execution_count": 140,
   "metadata": {
    "tags": []
   },
   "outputs": [
    {
     "output_type": "stream",
     "name": "stdout",
     "text": [
      "7 ^ 1 = 7\n7 ^ 2 = 49\n7 ^ 3 = 343\n7 ^ 4 = 2401\n7 ^ 5 = 16807\n7 ^ 6 = 117649\n7 ^ 7 = 823543\n"
     ]
    }
   ],
   "source": [
    "n = 7\n",
    "\n",
    "i = 1\n",
    "r = n\n",
    "while r < 10**6 :\n",
    "    print(n, \"^\", i, \"=\", r)\n",
    "    i = i + 1\n",
    "    r = n**i\n",
    "    \n",
    "\n",
    "\n",
    "\n",
    "\n"
   ]
  },
  {
   "cell_type": "code",
   "execution_count": null,
   "metadata": {},
   "outputs": [],
   "source": []
  }
 ],
 "metadata": {
  "celltoolbar": "Diaporama",
  "kernelspec": {
   "display_name": "Python 3",
   "language": "python",
   "name": "python3"
  },
  "language_info": {
   "codemirror_mode": {
    "name": "ipython",
    "version": 3
   },
   "file_extension": ".py",
   "mimetype": "text/x-python",
   "name": "python",
   "nbconvert_exporter": "python",
   "pygments_lexer": "ipython3",
   "version": "3.8.5-final"
  }
 },
 "nbformat": 4,
 "nbformat_minor": 4
}