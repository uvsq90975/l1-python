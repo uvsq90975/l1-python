{
 "cells": [
  {
   "cell_type": "markdown",
   "metadata": {},
   "source": [
    "# Instructions Générales\n",
    "\n",
    "Ce TD est à faire en créant un fichier td3.py, que vous éditerez dans VSCode. \n",
    "Vous ne remplirez pas les cellules de ce notebook, mais vous les copierez au fur et à mesure \n",
    "dans votre fichier pour les compléter.\n",
    "\n",
    "Vous respecterez au mieux les règles d'écriture de code, en particulier chaque fonction devra avoir un **docstring** et des commentaires si nécessaire et les noms de variable seront illustratifs de leur usage. Vous utiliserez les outils de débogage (flake8, mypy, debugger, pythontutor ...) pour corriger vos bogues."
   ]
  },
  {
   "cell_type": "markdown",
   "metadata": {},
   "source": [
    "# Gestion du temps\n",
    "\n",
    "Nous allons créer un petit logiciel de gestion du temps et des dates.\n",
    "Pour cela nous aurons besoin de créer un certain nombre de fonctions utilitaires.\n",
    "\n",
    "Un temps a le format suivant: (jour: int, heure: int, minute: int, seconde: int).\n",
    "C'est un tuple de 4 éléments. Par exemple (4,3,13,20) correspond à 4 jours, 3 heures, 13 minutes et 20 secondes.\n",
    "Si on une variable temps = (4,3,13,20), pour accéder au premier élément on fait temps\\[0\\] ce qui donne 4,\n",
    "le nombre de jours.\n",
    "\n",
    "Créer la fonction qui prend comme argument le temps et renvoie le nombre de seconde total correspondant à ce temps.\n",
    "Créer la fonction qui prend un nombre de secondes et renvoie le temps correspondante."
   ]
  },
  {
   "cell_type": "code",
   "execution_count": 2,
   "metadata": {},
   "outputs": [
    {
     "output_type": "stream",
     "name": "stdout",
     "text": [
      "<class 'tuple'>\n(3, 23, 1, 34)\n342094 secondes\n3 jours 23 heures 1 minutes 34 secondes\n"
     ]
    }
   ],
   "source": [
    "#temps[0] : jours, temps[1]: minutes, temps[2]: minutes, temps[3]: secondes\n",
    "\n",
    "def tempsEnSeconde(temps):\n",
    "    \"\"\" Renvoie la valeur en seconde de temps donné comme jour, heure, minute, seconde.\"\"\"\n",
    "    return (temps[3] + 60*temps[2] + 60*60*temps[1] + 24*60*60*temps[0])\n",
    "\n",
    "\n",
    "#tuples(...) non modifiables contrairement aux listes[...]\n",
    "temps = (3, 23, 1, 34)\n",
    "print(type(temps))\n",
    "print(temps)\n",
    "print(tempsEnSeconde(temps), \"secondes\")   \n",
    "\n",
    "\n",
    "def secondeEnTemps(seconde):\n",
    "    \"\"\"Renvoie le temps (jour, heure, minute, seconde) qui correspond au nombre de seconde passé en argument\"\"\"\n",
    "    temps = (seconde // (24*60*60), \\\n",
    "    (seconde % (24*60*60)) // (60*60), \\\n",
    "    ((seconde % (24*60*60)) % (60*60)) // 60, \\\n",
    "    ((seconde % (24*60*60)) % (60*60)) % 60)\n",
    "    return temps\n",
    "\n",
    "\n",
    "temps = secondeEnTemps(tempsEnSeconde(temps))\n",
    "print(temps[0], \"jours\", temps[1], \"heures\", temps[2], \"minutes\", temps[3], \"secondes\")\n"
   ]
  },
  {
   "cell_type": "markdown",
   "metadata": {},
   "source": [
    "Créer un fonction d'affichage d'un temps `afficheTemps`. Attention, les mots jour, heure et seconde doivent être au pluriel s'il y en a plusieurs. S'il y en a zéro, ils ne doivent pas apparaître.\n",
    "`print(message, end=\"\")` permet de ne pas sauter une ligne après un print. \n",
    "Vous pouvez écrire une fonction qui affiche un mot au pluriel ou non, appelée ensuite plusieurs fois par `afficheTemps` pour simplifier votre code.\n"
   ]
  },
  {
   "cell_type": "code",
   "execution_count": 3,
   "metadata": {},
   "outputs": [
    {
     "output_type": "stream",
     "name": "stdout",
     "text": [
      "\n1 jour 14 minutes 23 secondes "
     ]
    }
   ],
   "source": [
    "#fonction auxiliaire ici\n",
    "\n",
    "def afficheNbreMot(nbre, mot) :\n",
    "    if nbre == 0 :\n",
    "        print(end=\"\")\n",
    "    elif nbre == 1 :\n",
    "        print(nbre, mot, end=\" \")\n",
    "    elif nbre > 1 :\n",
    "        print(nbre, mot + \"s\", end=\" \")\n",
    "\n",
    "\n",
    "def afficheTemps(temps):\n",
    "    print()\n",
    "    afficheNbreMot(temps[0], \"jour\")\n",
    "    afficheNbreMot(temps[1], \"heure\")\n",
    "    afficheNbreMot(temps[2], \"minute\")\n",
    "    afficheNbreMot(temps[3], \"seconde\")\n",
    "    \n",
    "afficheTemps((1,0,14,23))    "
   ]
  },
  {
   "cell_type": "markdown",
   "metadata": {},
   "source": [
    "Ecrire une fonction qui demande à l'utilisateur de rentrer un nombre de jours, d'heures, de minutes et\n",
    "de secondes et qui renvoie un temps. Attention, si l'entrée utilisateur n'est pas correcte, par exemple 80 minutes,\n",
    "afficher un message d'erreur et s'arrêter.\n",
    "\n",
    "(Optionnel) Au lieu d'arêter le programme, demander de rentrer une nouvelle valeur, tant que \n",
    "ce n'est pas une valeur correcte."
   ]
  },
  {
   "cell_type": "code",
   "execution_count": 4,
   "metadata": {},
   "outputs": [
    {
     "output_type": "stream",
     "name": "stdout",
     "text": [
      "j = 5\n",
      "h = 5\n",
      "m = 5\n",
      "s = 5\n",
      "\n",
      "5 jours 5 heures 5 minutes 5 secondes "
     ]
    }
   ],
   "source": [
    "def demandeTemps():\n",
    "    j = int(input(\"Entrer un nombre de jours :\"))\n",
    "    print(\"j =\", j)\n",
    "\n",
    "    h = int(input(\"Entrer un nombre d'heures < 24 :\"))\n",
    "    while h >= 24 :\n",
    "        h = int(input(\"Entrer un nombre d'heures < 24 :\"))\n",
    "    print(\"h =\", h)\n",
    "\n",
    "    m = int(input(\"Entrer un nombre de minutes < 60 :\"))\n",
    "    while m >= 60 : \n",
    "        m = int(input(\"Entrer un nombre de minutes < 60 :\"))\n",
    "    print(\"m =\", m)\n",
    "\n",
    "    s = int(input(\"Entrer un nombre de secondes < 60 :\"))\n",
    "    while s >= 60 :\n",
    "        s = int(input(\"Entrer un nombre de secondes < 60 :\"))\n",
    "    print(\"s =\", s)\n",
    "\n",
    "    temps = (j, h, m, s)\n",
    "    return temps\n",
    "\n",
    "\n",
    "afficheTemps(demandeTemps())"
   ]
  },
  {
   "cell_type": "markdown",
   "metadata": {},
   "source": [
    "On veut être capable d'additionner deux temps. Donner une fonction qui fait ce calcul,\n",
    "en utilisant les fonctions précédentes."
   ]
  },
  {
   "cell_type": "code",
   "execution_count": 7,
   "metadata": {},
   "outputs": [
    {
     "output_type": "stream",
     "name": "stdout",
     "text": [
      "8 jours 2 heures 1 minute 26 secondes \n"
     ]
    },
    {
     "output_type": "execute_result",
     "data": {
      "text/plain": [
       "(8, 2, 1, 26)"
      ]
     },
     "metadata": {},
     "execution_count": 7
    }
   ],
   "source": [
    "def sommeTemps(temps1,temps2):\n",
    "    somme = tempsEnSeconde(temps1) + tempsEnSeconde(temps2)\n",
    "    temps = secondeEnTemps(somme)\n",
    "    afficheTemps(temps)\n",
    "    return temps\n",
    "\n",
    "sommeTemps((2,3,4,25),(5,22,57,1))\n"
   ]
  },
  {
   "cell_type": "markdown",
   "metadata": {},
   "source": [
    "On veut maintenant calculer un pourcentage d'un temps. Par exemple, 20% de\n",
    "2 jours et 36 minutes correspond à 9 heures, 43 minutes et 12 secondes.\n",
    "\n",
    "Implémenter la fonction `proportionTemps` puis appeler cette fonction en échangeant l'ordre des arguments mais en les nommant."
   ]
  },
  {
   "cell_type": "code",
   "execution_count": 8,
   "metadata": {},
   "outputs": [
    {
     "output_type": "stream",
     "name": "stdout",
     "text": [
      "9 heures 43 minutes 12 secondes \n9 heures 43 minutes 12 secondes \n"
     ]
    }
   ],
   "source": [
    "def proportionTemps(temps,proportion):\n",
    "    if type(temps) == float or type(temps) == int:\n",
    "        temps, proportion = proportion, temps\n",
    "\n",
    "    nbre_secondes = tempsEnSeconde(temps)\n",
    "    nbre_secondes_pourcentage = int(proportion * nbre_secondes)\n",
    "    temps_pourcentage = secondeEnTemps(nbre_secondes_pourcentage)\n",
    "    return temps_pourcentage\n",
    "\n",
    "afficheTemps(proportionTemps((2,0,36,0), 0.2))\n",
    "afficheTemps(proportionTemps(0.2, (2,0,36,0)))\n",
    "#appeler la fonction en échangeant l'ordre des arguments"
   ]
  },
  {
   "cell_type": "markdown",
   "metadata": {},
   "source": [
    "On veut maintenant afficher un temps sous forme de date, en supposant \n",
    "que le temps 0 est le 1 janvier 1970 à 00:00:00.\n",
    "\n",
    "* Implémenter une fonction `tempsEnDate`qui donne la date sous la forme (année, jour, heure, minute, seconde).\n",
    "* Implémenter la fonction `afficheDate`qui affiche la date. \n",
    "* (Optionnel) Gérer également les mois."
   ]
  },
  {
   "cell_type": "code",
   "execution_count": 13,
   "metadata": {},
   "outputs": [
    {
     "output_type": "stream",
     "name": "stdout",
     "text": [
      "1 jour 3 heures 46 minutes 40 secondes \n1970 annees 1 jour 3 heures 46 minutes 40 secondes \n"
     ]
    }
   ],
   "source": [
    "def tempsEnDate(ref, temps):\n",
    "    seconde = tempsEnSeconde(temps)\n",
    "    a = seconde // (365*24*60*60)\n",
    "    a = a + ref\n",
    "    j = (seconde % (365*24*60*60)) // (24*60*60)\n",
    "    h = ((seconde % (365*24*60*60)) % (24*60*60)) // (60*60)\n",
    "    m = (((seconde % (365*24*60*60)) % (24*60*60)) % (60*60)) // 60\n",
    "    s = (((seconde % (365*24*60*60)) % (24*60*60)) % (60*60)) % 60\n",
    "    date = (a, j, h, m, s)\n",
    "    return date\n",
    "\n",
    "\n",
    "def afficheDate(date):\n",
    "    affichePluriel(date[0], \"annee\")\n",
    "    affichePluriel(date[1], \"jour\")\n",
    "    affichePluriel(date[2], \"heure\")\n",
    "    affichePluriel(date[3], \"minute\")\n",
    "    affichePluriel(date[4], \"seconde\")\n",
    "    print()\n",
    "    \n",
    "temps = secondeEnTemps(100000)\n",
    "afficheTemps(temps)\n",
    "afficheDate(tempsEnDate(1970, temps))\n"
   ]
  },
  {
   "cell_type": "markdown",
   "metadata": {},
   "source": [
    "Il existe des fonctions dans la librairie `time` pour la gestion du temps. En particulier, il existe\n",
    "une fonction `time` qui donne le temps écoulé depuis 1970 en secondes. \n",
    "La trouver avec la [documentation python](https://docs.python.org/fr/3/library/time.html#module-time) et la tester en utilisant `afficheDate`. \n",
    "Tester de la même manière la fonction `time.gmtime` qui réalise une tâche similaire à `tempsEnDate`.\n",
    "Que constatez vous ?"
   ]
  },
  {
   "cell_type": "code",
   "execution_count": 31,
   "metadata": {},
   "outputs": [
    {
     "output_type": "stream",
     "name": "stdout",
     "text": [
      "1605110859 secondes\n18577 jours 16 heures 7 minutes 39 secondes \n2020 annees 327 jours 16 heures 7 minutes 39 secondes \ntime.struct_time(tm_year=2020, tm_mon=11, tm_mday=11, tm_hour=16, tm_min=7, tm_sec=39, tm_wday=2, tm_yday=316, tm_isdst=0)\n"
     ]
    }
   ],
   "source": [
    "#tester ici les fonctions de la librairie time\n",
    "import time\n",
    "\n",
    "seconde = int(time.time())\n",
    "print(seconde, \"secondes\")\n",
    "\n",
    "\n",
    "temps = secondeEnTemps(seconde)\n",
    "afficheTemps(temps)\n",
    "\n",
    "date = tempsEnDate(1970, temps)\n",
    "afficheDate(date)\n",
    "\n",
    "date = time.gmtime()\n",
    "print(date)\n"
   ]
  },
  {
   "cell_type": "markdown",
   "metadata": {},
   "source": [
    "Attention, tous les 4 ans les années sont bisextiles (un jour de plus) sauf les multiples de 100 qui ne sont pas des multiples de 400.\n",
    "Donner un code qui prend un nombre de jours et affiche toutes les années bisextiles depuis 1 janvier 2020 à 00:00:00 jusqu'à la fin de ces jours."
   ]
  },
  {
   "cell_type": "code",
   "execution_count": 15,
   "metadata": {},
   "outputs": [
    {
     "output_type": "stream",
     "name": "stdout",
     "text": [
      "2000\n2004\n"
     ]
    }
   ],
   "source": [
    "def bisextile(ref, jour):\n",
    "    a = int(jour / 365.25)\n",
    "    for i in range (ref, ref+a+1) :\n",
    "      if i % 4 == 0 and (i % 100 != 0 or i % 400 == 0) :\n",
    "        print(i)\n",
    "       \n",
    "        \n",
    "bisextile(2000, 365*5)"
   ]
  },
  {
   "cell_type": "markdown",
   "metadata": {},
   "source": [
    "Implémenter une fonction `nombreBisextile` qui calcule le nombre d'années bisextiles pour un nombre de jour donnés pour corriger votre fonction de calcul de la date."
   ]
  },
  {
   "cell_type": "code",
   "execution_count": 23,
   "metadata": {},
   "outputs": [
    {
     "output_type": "stream",
     "name": "stdout",
     "text": [
      "14 années bisextiles\n\n18578 jours 9 heures 18 minutes 23 secondes \n2020 annees 328 jours 9 heures 18 minutes 23 secondes \nNombre d'annees bissextiles =  13\n2020 annees 341 jours 9 heures 18 minutes 23 secondes \n"
     ]
    }
   ],
   "source": [
    "def nombreBisextile(ref, jour):\n",
    "    a = int(jour / 365.25)\n",
    "    cpt = 0\n",
    "    for i in range (ref, ref+a+1) :\n",
    "      if i % 4 == 0 and (i % 100 != 0 or i % 400 == 0) :\n",
    "        cpt = cpt + 1\n",
    "    return cpt\n",
    "\n",
    "\n",
    "print(nombreBisextile(2000, 20000), \"années bisextiles\")\n",
    "print()\n",
    "\n",
    "\n",
    "def tempsEnDateBisextile(ref, temps):\n",
    "    seconde = tempsEnSeconde(temps)\n",
    "    jour = seconde // (60*60*24)\n",
    "    bis = nombreBisextile(ref, jour)\n",
    "    print(\"Nombre d'annees bissextiles = \", bis)\n",
    "    seconde = seconde + bis*(60*60*24)\n",
    "    tempsBis = secondeEnTemps(seconde)\n",
    "    dateBis = tempsEnDate(ref, tempsBis)\n",
    "    return dateBis \n",
    "   \n",
    "import time\n",
    "\n",
    "seconde = int(time.time())\n",
    "temps = secondeEnTemps(seconde)\n",
    "afficheTemps(temps)\n",
    "afficheDate(tempsEnDate(1970, temps))\n",
    "afficheDate(tempsEnDateBisextile(1970, temps))"
   ]
  },
  {
   "cell_type": "markdown",
   "metadata": {},
   "source": [
    "Ajouter des valeurs par défaut dans le code de `afficheDate` afin de pouvoir ommettre\n",
    "l'argument de ces fonctions. Dans ce cas là, on affichera la date actuelle en utilisant la fonction `time`."
   ]
  },
  {
   "cell_type": "markdown",
   "metadata": {},
   "source": [
    "On va maintenant inspecter notre code pour améliorer sa qualité:\n",
    "\n",
    "* Regarder tous les warnings donnés par flake8 et essayer de les régler.\n",
    "* Utiliser le debugger (F5) pour étudier le fonctionnement de votre fonction nombreBisextile.\n",
    "* Mettre les annotations de type des arguments et du retour de la fonction pour nombreBisextile et une autre fonction de votre choix. Vérifier avec mypy que tout fonctionne bien."
   ]
  },
  {
   "cell_type": "markdown",
   "metadata": {},
   "source": [
    "Donner une fonction qui vérifie la charge horaire d'un employé, donnée sous forme d'une liste de temps travaillé chaque semaine dans un mois. Il ne faut pas dépasser 48h par semaine et 140h par mois (qu'on considère ici de 4 semaines).\n",
    "\n",
    "(Optionnel) S'adapter à une liste qui peut contenir plusieurs mois."
   ]
  },
  {
   "cell_type": "code",
   "execution_count": null,
   "metadata": {},
   "outputs": [],
   "source": [
    "def verifie(liste_temps):\n",
    "    pass\n",
    "\n",
    "\n",
    "liste_temps = [[1,2,39,34],[0,1,9,4],[0,29,39,51],[0,31,13,46]]\n",
    "verifie(liste_temps)"
   ]
  },
  {
   "cell_type": "code",
   "execution_count": null,
   "metadata": {},
   "outputs": [],
   "source": []
  }
 ],
 "metadata": {
  "kernelspec": {
   "display_name": "Python 3",
   "language": "python",
   "name": "python3"
  },
  "language_info": {
   "codemirror_mode": {
    "name": "ipython",
    "version": 3
   },
   "file_extension": ".py",
   "mimetype": "text/x-python",
   "name": "python",
   "nbconvert_exporter": "python",
   "pygments_lexer": "ipython3",
   "version": "3.8.5-final"
  }
 },
 "nbformat": 4,
 "nbformat_minor": 4
}