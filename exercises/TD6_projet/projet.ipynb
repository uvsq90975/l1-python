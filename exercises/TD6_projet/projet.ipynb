{
 "cells": [
  {
   "cell_type": "markdown",
   "metadata": {},
   "source": [
    "# TD Git : faire un projet à plusieurs"
   ]
  },
  {
   "cell_type": "markdown",
   "metadata": {},
   "source": [
    "---\n",
    "\n",
    "## 1.Premier pas avec Git\n",
    "\n",
    "1. Vous avez normalement un compte GitHub. Vérifiez que vous pouvez vous y connecter. Choisissez un partenaire avec qui vous allez faire ce TD. \n",
    "\n",
    "2. Vous êtes donc par deux. Une personne A et une personne B. Dans ce TD, certaines actions seront à réaliser par A et/ou par B. Décidez donc maintenant qui est A et qui est B.\n",
    "\n",
    "3. A crée un nouveau projet intitulé td_git sous GitHub, en se connectant à son compte. A invite B (toujours sous GitHub) à participer au projet\n",
    "\n",
    "4. B accepte l'invitation à participer au projet de A. À cette étape, A et B ont les droits sur le projet. \n",
    "\n",
    "5. En créant un nouveau projet, GitHub propose d'initialiser le dépot avec un README. Faites le et remplissez le README en expliquant que ce projet est une calculatrice simple réalisée en python avec Tkinter.\n",
    "\n",
    "6. Réalisez (A et B) votre premier clone du projet comme vu en cours.\n",
    "\n",
    "7. B rajoute dans le dépot git, via la ligne de commande et ayant copié le fichier projet.ipynb (celui là) dans le bon dossier. C'est votre premier commit + push\n",
    "\n",
    "8. A réalise son premier pull ! maintenant, le fichier du TD est dans le dépot Git, vous pouvez travailler dessus séparément et localement."
   ]
  },
  {
   "cell_type": "markdown",
   "metadata": {},
   "source": [
    "---\n",
    "## 2.Début du projet: l'interface\n",
    "\n",
    "Nous allons donc réaliser une calculatrice simple en Python, c'est à dire une interface graphique, avec des boutons représentant les chiffres de 0 à 9, ainsi que la possibilité de réaliser les opérations de base d'une calculatrice. À la fin, seul le code qui fonctionne doit être présent dans le Git.\n",
    "\n",
    "7. Travail de A: après avoir dicuté à deux sur la manière de coder cela, partagez vous le travail jusqu'à avoir l'interface complète (l'ensemble des widgets nécessaires à la calculatrice). Programmez uniquement l'interface. N'oubliez pas de commit et de push quelques fois, afin que B puisse commencer à travailler de son côté.\n"
   ]
  },
  {
   "cell_type": "code",
   "execution_count": null,
   "metadata": {},
   "outputs": [],
   "source": []
  },
  {
   "cell_type": "markdown",
   "metadata": {},
   "source": [
    "8. Travail de B: pendant que A réalise petit à petit l'interface et identifie les widget, commencez à réaliser les fonctions associées aux widget. Que doit réaliser l'action \"appuyer sur le 0\", appuyer sur le \"+\",... N'oubliez pas non plus de tester, et de commit, et de pull pour réaliser un travail consistant avec A"
   ]
  },
  {
   "cell_type": "markdown",
   "metadata": {},
   "source": [
    "9. (optionnel) Générez une clef ssh et ajoutez là à votre compte GitHub, afin de pouvoir pull et push sans avoir à donner votre nom d'utilisateur et mot de passe (il faut aussi chaner d'url de dépot git).\n",
    "\n",
    "Tout ce qui suit doit être réalisé à deux, c'est à vous de vous organiser.\n",
    "\n",
    "10. Continuez jusqu'à avoir une calculatrice qui fait les choses suivantes: \n",
    "    - Il y a 10 boutons de numéros (0 à 9), quand on clique dessus, cela modifie une variable (c'est l'opérande en cours)\n",
    "    - Il y a 4 boutons (+, -, *, /) qui, quand on clique dessus permettent de définir la deuxième opérande (qui le sera en cliquant sur les boutons\n",
    "    - Il y a une zone qui affiche le calcul en cours, et qui donne le résultat quand on clique sur le bouton ="
   ]
  },
  {
   "cell_type": "markdown",
   "metadata": {},
   "source": [
    "11. Quand vous avez fini cela, améliorez votre code pour pouvoir travailler sur des nombres flottants (il faut rajouter un bouton . )"
   ]
  },
  {
   "cell_type": "markdown",
   "metadata": {},
   "source": [
    "12. Modifiez votre code pour pouvoir taper les numéros ou bien avec la souris en cliquant sur les boutons, ou bien en tapant sur le clavier."
   ]
  },
  {
   "cell_type": "raw",
   "metadata": {},
   "source": [
    "12. S'il vous reste du temps, rajoutez des boutons qui permettent d'afficher (tracer les courbes) lorsque l'on clique sur les boutons appropriés les fonctions suivantes:\n",
    "    - La fonction x -> x^2\n",
    "    - La fonction racine carrée\n",
    "    - La fonction logarithme\n",
    "    - La fonction exponentielle"
   ]
  }
 ],
 "metadata": {
  "kernelspec": {
   "display_name": "Python 3",
   "language": "python",
   "name": "python3"
  },
  "language_info": {
   "codemirror_mode": {
    "name": "ipython",
    "version": 3
   },
   "file_extension": ".py",
   "mimetype": "text/x-python",
   "name": "python",
   "nbconvert_exporter": "python",
   "pygments_lexer": "ipython3",
   "version": "3.8.3"
  }
 },
 "nbformat": 4,
 "nbformat_minor": 1
}
