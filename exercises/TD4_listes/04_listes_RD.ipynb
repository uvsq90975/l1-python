{
 "cells": [
  {
   "source": [
    "# TD 4: Listes"
   ],
   "cell_type": "markdown",
   "metadata": {}
  },
  {
   "cell_type": "markdown",
   "metadata": {},
   "source": [
    "---\n",
    "\n",
    "## 1. Débuts avec les listes\n",
    "\n",
    "Dans cette partie, il faut écrire les réponses directement dans le notebook. En plus du cours, n'hésitez pas à consulter la documentation (tutoriel) Python sur les listes [ici (introduction aux listes)](https://docs.python.org/fr/3.6/tutorial/introduction.html#lists) et [ici (complément sur les listes)] (https://docs.python.org/fr/3/tutorial/datastructures.html#more-on-lists).\n",
    "\n",
    "1. Créer la liste `3, 5, 10`, l'affecter à une variable, puis l'afficher."
   ]
  },
  {
   "cell_type": "code",
   "execution_count": null,
   "metadata": {},
   "outputs": [],
   "source": [
    "liste = [3, 5, 10]\n",
    "print(liste)"
   ]
  },
  {
   "source": [
    "2. Ajouter ensuite 12 et 17 à la fin puis afficher à nouveau la liste."
   ],
   "cell_type": "markdown",
   "metadata": {}
  },
  {
   "cell_type": "code",
   "execution_count": null,
   "metadata": {},
   "outputs": [],
   "source": [
    "liste.append(12)\n",
    "liste.append(17)\n",
    "print(liste)"
   ]
  },
  {
   "source": [
    "3. Changer le 10 en -7."
   ],
   "cell_type": "markdown",
   "metadata": {}
  },
  {
   "cell_type": "code",
   "execution_count": null,
   "metadata": {},
   "outputs": [],
   "source": [
    "i = liste.index(10)\n",
    "print(i)\n",
    "liste[i] = -7\n",
    "print(liste)\n",
    "\n",
    "\"\"\"\n",
    "liste.insert(i, -7)\n",
    "print(liste)\n",
    "liste.remove(10)\n",
    "print(liste)\n",
    "\"\"\"\n"
   ]
  },
  {
   "source": [
    "4. Avec une boucle `for`, écrire le double de chaque élément de la liste. Cela doit afficher `[6, 10, -14, 24, 34]`. La liste doit être modifiée."
   ],
   "cell_type": "markdown",
   "metadata": {}
  },
  {
   "cell_type": "code",
   "execution_count": null,
   "metadata": {},
   "outputs": [],
   "source": [
    "for i in range(len(liste)):\n",
    "    liste[i] *=2\n",
    "print(liste)\n"
   ]
  },
  {
   "source": [
    "5. A l'aide d'une boucle `for`, ajouter  la valeur `i` à l'élément d'indice `i` de la liste. Cela doit afficher `[6, 11, -12, 27, 38]`. La liste doit être modifiée."
   ],
   "cell_type": "markdown",
   "metadata": {}
  },
  {
   "cell_type": "code",
   "execution_count": null,
   "metadata": {},
   "outputs": [],
   "source": [
    "for i in range(len(liste)):\n",
    "    liste[i] += i\n",
    "print(liste)"
   ]
  },
  {
   "source": [
    "6. Tirer 10 nombres à 2 chiffres au hasard et les mettre dans une nouvelle liste (vide au départ), puis afficher la somme des entiers de la liste et le plus grand de ces entiers."
   ],
   "cell_type": "markdown",
   "metadata": {}
  },
  {
   "cell_type": "code",
   "execution_count": null,
   "metadata": {},
   "outputs": [],
   "source": [
    "import random\n",
    "\n",
    "l = []\n",
    "for i in range(10):\n",
    "    l.append(random.randint(0,99))\n",
    "    print(l[i])\n",
    "\n",
    "som = 0\n",
    "for i in range(10):\n",
    "    som = som + l[i]\n",
    "print(\"Somme =\", som)\n",
    "print(\"Somme =\", sum(l))\n",
    "\n",
    "maxi = 0\n",
    "for i in range(10):\n",
    "    if l[i] > maxi:\n",
    "        maxi = l[i]\n",
    "print(\"Max =\", maxi)\n",
    "print(\"Max =\", max(l))"
   ]
  },
  {
   "source": [
    "7. A partir de la liste choisie au hasard, créer une liste qui contient les éléments pairs et une deuxième liste qui contient les éléments impairs."
   ],
   "cell_type": "markdown",
   "metadata": {}
  },
  {
   "cell_type": "code",
   "execution_count": null,
   "metadata": {},
   "outputs": [],
   "source": [
    "paire = []\n",
    "impaire = []\n",
    "\n",
    "for i in range(10):\n",
    "    if l[i] % 2 == 0:\n",
    "        paire.append(l[i])\n",
    "    else:\n",
    "        impaire.append(l[i])\n",
    "\n",
    "print(\"Liste paire :\",paire)\n",
    "print(\"Liste impaire :\",impaire)"
   ]
  },
  {
   "source": [
    "8. Trier la liste choisie au hasard par ordre croissant en modifiant la liste."
   ],
   "cell_type": "markdown",
   "metadata": {}
  },
  {
   "cell_type": "code",
   "execution_count": null,
   "metadata": {},
   "outputs": [],
   "source": [
    "l.sort()\n",
    "print(l)"
   ]
  },
  {
   "source": [
    "9. Supprimer le plus petit et le plus grand élément de la liste triée."
   ],
   "cell_type": "markdown",
   "metadata": {}
  },
  {
   "cell_type": "code",
   "execution_count": null,
   "metadata": {},
   "outputs": [],
   "source": [
    "l.remove(l[0])\n",
    "l.remove(l[-1])\n",
    "print(l)"
   ]
  },
  {
   "cell_type": "code",
   "execution_count": null,
   "metadata": {},
   "outputs": [],
   "source": [
    "mini = min(l)\n",
    "l.remove(mini)\n",
    "print(l)\n",
    "\n",
    "maxi = max(l)\n",
    "l.remove(maxi)\n",
    "print(l)\n",
    "\n",
    "l = l[1:-1]\n",
    "print(l)"
   ]
  },
  {
   "source": [
    "10. Créer la liste des entiers de 1 jusqu'à 52. Ces entiers représentent les cartes d'un paquet de 52 cartes."
   ],
   "cell_type": "markdown",
   "metadata": {}
  },
  {
   "cell_type": "code",
   "execution_count": null,
   "metadata": {},
   "outputs": [],
   "source": [
    "l = []\n",
    "for i in range(0, 52):\n",
    "    l.append(i+1)\n",
    "print(l)\n",
    "print(l[0])\n",
    "\n",
    "carte = list(range(1,53))\n",
    "print(carte)\n",
    "print(carte[0])"
   ]
  },
  {
   "source": [
    " 11. Couper le jeu de carte revient à choisir un indice `i` entre 0 et 51, et à passer toutes les cartes allant des indices 0 à i-1 à la suite des cartes qui vont des indices i à 51. Ecrire le code qui effectue une coupe choisie au hasard."
   ],
   "cell_type": "markdown",
   "metadata": {}
  },
  {
   "cell_type": "code",
   "execution_count": null,
   "metadata": {},
   "outputs": [],
   "source": [
    "import random\n",
    "\n",
    "i = random.randint(0,51)\n",
    "print(\"Coupe :\", i)\n",
    "\n",
    "lsup = l[0:i]\n",
    "print(\"Sup :\",lsup)\n",
    "linf = l[i:52]\n",
    "print(\"Inf :\",linf)\n",
    "\n",
    "lcoupe = linf + lsup\n",
    "print(lcoupe)\n",
    "\n",
    "lcoupe2 = l[i:52] + l[0:i]\n",
    "print(lcoupe2)\n"
   ]
  },
  {
   "source": [
    "---\n",
    "\n",
    "## 2. Problème de Syracuse\n",
    "\n",
    "Cette partie est à traiter dans un script que vous pouvez appeler, par exemple, `syracuse.py`.\n",
    "\n",
    "En partant d'un entier `n` de départ, on définit une suite d'entiers en obtenant chaque nouveau terme à partir du précédent soit en le divisant par 2 s'il est pair, soit en le multipliant par 3 et en ajoutant 1 s'il est impair. \n",
    "\n",
    "1. Sans écrire de programme, calculer les premières valeurs de la suite en chosissant `n = 3`.\n",
    "\n",
    "2. Ecrire la fonction qui, à partir d'un entier initial, renvoie la liste des valeurs successives jusqu'à ce que la valeur `1` soit atteinte (le dernier élément de la liste est donc toujours 1)."
   ],
   "cell_type": "markdown",
   "metadata": {}
  },
  {
   "cell_type": "code",
   "execution_count": null,
   "metadata": {},
   "outputs": [],
   "source": [
    "def syracuse(n):\n",
    "    \"\"\" Retourne la liste des valeurs de la suite en partant de n jusqu'à 1 \"\"\"\n",
    "    l = []\n",
    "    l.append(n)\n",
    "    while n != 1:\n",
    "        if n % 2 == 0:\n",
    "            n = n//2\n",
    "        else:\n",
    "            n = n*3 + 1\n",
    "        l.append(n)\n",
    "    return l\n",
    "\n",
    "\n",
    "help(syracuse)\n",
    "print(syracuse(3))"
   ]
  },
  {
   "source": [
    "3. La conjecture de Collatz (ou problème de Syracuse) affirme que, quel que soit l’entier `n` que l’on choisisse au départ, on finit toujours par arriver à 1 (ce résultat est une *conjecture*, c'est-à-dire qu'il n'a pas été démontré, mais qu'il n'existe pas de contre-exemple connu). Écrire une fonction qui, en appelant la fonction précédente, va vérifier si la conjecture est vraie pour `n` de 1 à `n_max`, où `n_max` est un paramètre de la fonction. \n",
    "\n",
    "*Remarque*: si tout se passe bien, la fonction doit juste se terminer et renvoyer `True` par exemple. Sinon, c’est qu’on sera entré dans une boucle infinie."
   ],
   "cell_type": "markdown",
   "metadata": {}
  },
  {
   "cell_type": "code",
   "execution_count": null,
   "metadata": {
    "tags": []
   },
   "outputs": [],
   "source": [
    "def testeConjecture(n_max):\n",
    "    \"\"\" Teste la conjecture de Collatz pour toutes les valeurs de 2 à n_max \"\"\"\n",
    "    test = True\n",
    "    for n in range(2,n_max+1):\n",
    "        l = syracuse(n)\n",
    "        print(l)\n",
    "        \n",
    "        if l[-1] != 1:\n",
    "            test = False\n",
    "            print(\"False\")\n",
    "        else:\n",
    "            print(\"True\")\n",
    "    \n",
    "    print(\"Test terminé\")\n",
    "    return test\n",
    "        \n",
    "\n",
    "print(testeConjecture(10))"
   ]
  },
  {
   "source": [
    "4. On appelle *temps de vol* de l’entier `n` le nombre d’étapes pour aller de `n` jusqu’à 1. Le temps de vol de 1 est 0, le temps de vol de 3 est 7. Écrire une fonction qui, étant donné un paramètre `n`, renvoie son temps de vol."
   ],
   "cell_type": "markdown",
   "metadata": {}
  },
  {
   "cell_type": "code",
   "execution_count": null,
   "metadata": {},
   "outputs": [],
   "source": [
    "def tempsVol(n):\n",
    "    \"\"\" Retourne le temps de vol de n \"\"\"\n",
    "    l = []\n",
    "    l.append(n)\n",
    "    cpt = 0\n",
    "    while n != 1:\n",
    "        if n % 2 == 0:\n",
    "            n = n//2\n",
    "        else:\n",
    "            n = n*3+1\n",
    "        l.append(n)\n",
    "        cpt += 1\n",
    "    return cpt\n",
    "\n",
    "\n",
    "def tempsVol2(n):\n",
    "    \"\"\" Retourne le temps de vol de n \"\"\"\n",
    "    l = syracuse(n)\n",
    "    return len(l)-1\n",
    "\n",
    "\n",
    "n = 3\n",
    "print(\"Le temps de vol de\", n, \"est\", tempsVol(n))\n",
    "print(\"Le temps de vol de\", n, \"est\", tempsVol2(n))"
   ]
  },
  {
   "source": [
    "5. Ecrire une fonction qui, étant donné un paramètre `n_max` renvoie la liste des temps de vol de tous les entiers de 1 à `n_max`. *Indication*: utiliser une liste en compréhension."
   ],
   "cell_type": "markdown",
   "metadata": {}
  },
  {
   "cell_type": "code",
   "execution_count": null,
   "metadata": {
    "tags": [
     "outputPrepend"
    ]
   },
   "outputs": [],
   "source": [
    "def tempsVolListe(n_max):\n",
    "    \"\"\" Retourne la liste de tous les temps de vol de 1 à n_max \"\"\"\n",
    "    l = []\n",
    "    for n in range(1, n_max + 1):\n",
    "        l.append(tempsVol(n))\n",
    "    return l\n",
    "\n",
    "\n",
    "print()\n",
    "l = tempsVolListe(10000)\n",
    "print(l)\n"
   ]
  },
  {
   "source": [
    "6. Déterminer quel entier entre 1 et 10000 a le plus grand temps de vol (réponse 6171 qui a le temps de vol 261)."
   ],
   "cell_type": "markdown",
   "metadata": {}
  },
  {
   "cell_type": "code",
   "execution_count": null,
   "metadata": {},
   "outputs": [],
   "source": [
    "maxi = max(l)\n",
    "print(\"Temps de vol maxi :\", maxi)\n",
    "val = l.index(maxi) + 1\n",
    "print(\"Valeur :\", val)"
   ]
  },
  {
   "source": [
    "7. L’altitude maximale de l'entier `n` est la plus grande valeur par laquelle passe `n` au cours de son vol. Déterminer quel entier entre 1 et 10000 a la plus grande altitude maximale (réponse 27114424, atteint par l'entier 9663). Ne pas hésiter à écrire de nouvelles fonctions pour cela."
   ],
   "cell_type": "markdown",
   "metadata": {}
  },
  {
   "cell_type": "code",
   "execution_count": null,
   "metadata": {
    "tags": []
   },
   "outputs": [],
   "source": [
    "def altMax(n):\n",
    "    \"\"\" Retourne la plus grande valeur par laquelle passe n au cours de son vol\"\"\"\n",
    "    l = syracuse(n)\n",
    "    return max(l)\n",
    "\n",
    "\n",
    "def altMaxListe(n_max):\n",
    "    l = []\n",
    "    for n in range(1, n_max + 1):\n",
    "        l.append(altMax(n))\n",
    "    return l\n",
    "\n",
    "\n",
    "n = 10000\n",
    "l = altMaxListe(n)\n",
    "#print(l)\n",
    "\n",
    "maxi = max(l)\n",
    "print(\"Altitude maxi :\", maxi)\n",
    "val = l.index(maxi) + 1\n",
    "print(\"Valeur :\", val)\n"
   ]
  },
  {
   "source": [
    "---\n",
    "\n",
    "## 3. Carré magique\n",
    "\n",
    "*Définition* extraite de [l'article Wikipedia sur le carré magique](https://fr.wikipedia.org/wiki/Carr%C3%A9_magique_(math%C3%A9matiques)): en mathématiques, un carré magique d’ordre $n$ est composé de $n^2$ entiers strictement positifs, écrits sous la forme d’un tableau carré. Ces nombres sont disposés de sorte que leurs sommes sur chaque rangée, sur chaque colonne et sur chaque diagonale principale soient égales. On nomme alors *constante magique* la valeur de ces sommes. \n",
    "\n",
    "Un exemple de carré magique:\n",
    "\n",
    "$$\\begin{bmatrix} 4 & 14 & 15 & 1 \\\\ 9 & 7 & 6 & 12 \\\\ 5 & 11 & 10 & 8 \\\\ 16 & 2 & 3 & 13 \\end{bmatrix}$$\n",
    "\n",
    "1. Sans écrire de programme, vérifier qu'il s'agit bien d'un carré magique, et donner sa constante magique.\n",
    "\n",
    "Les questions qui suivent doivent être traitées dans un script, qui peut s'appeler `carre_magique.py`. Pensez à utiliser [PythonTutor](http://pythontutor.com/) et les outils de programmation pour résoudre les problèmes qui pourraient survenir.\n",
    "\n",
    "2. Créer une liste à deux dimensions affectée à  la variable `carre_mag` contenant ce carré magique."
   ],
   "cell_type": "markdown",
   "metadata": {}
  },
  {
   "cell_type": "code",
   "execution_count": null,
   "metadata": {},
   "outputs": [],
   "source": [
    "carre_mag = [[4, 14, 15, 1], [9, 7, 6, 12], [5, 11, 10, 8], [16, 2, 3, 13]]\n"
   ]
  },
  {
   "source": [
    "3. Créer une deuxième liste affectée à la variable `carre_pas_mag` qui ne soit pas magique à partir du carré magique en changeant le 3 en 7. "
   ],
   "cell_type": "markdown",
   "metadata": {}
  },
  {
   "cell_type": "code",
   "execution_count": null,
   "metadata": {},
   "outputs": [],
   "source": [
    "carre_pas_mag = [[4, 14, 15, 1], [9, 7, 6, 12], [5, 11, 10, 8], [16, 2, 7, 13]]\n"
   ]
  },
  {
   "source": [
    "4. Créer une fonction qui affiche la liste comme un carré."
   ],
   "cell_type": "markdown",
   "metadata": {}
  },
  {
   "cell_type": "code",
   "execution_count": 38,
   "metadata": {},
   "outputs": [
    {
     "output_type": "stream",
     "name": "stdout",
     "text": [
      "4 14 15 1 \n9 7 6 12 \n5 11 10 8 \n16 2 3 13 \n\n4 14 15 1 \n9 7 6 12 \n5 11 10 8 \n16 2 7 13 \n"
     ]
    }
   ],
   "source": [
    "def afficheCarre(l):\n",
    "    \"\"\" Affiche la liste à 2 dimensions carre comme un carré\"\"\"\n",
    "    for i in range(4):\n",
    "        for j in range(4):\n",
    "            print(l[i][j], end=\" \")\n",
    "        print()\n",
    "\n",
    "\n",
    "afficheCarre(carre_mag)\n",
    "print()\n",
    "afficheCarre(carre_pas_mag)\n"
   ]
  },
  {
   "source": [
    "5. Ecrire une fonction qui teste si les lignes du carré ont toutes la même somme. Cette fonction renvoie cette somme si c'est le cas, et `-1` sinon."
   ],
   "cell_type": "markdown",
   "metadata": {}
  },
  {
   "cell_type": "code",
   "execution_count": 44,
   "metadata": {},
   "outputs": [
    {
     "output_type": "stream",
     "name": "stdout",
     "text": [
      "[34, 34, 34, 34]\n34\n\n[34, 34, 34, 38]\n-1\n"
     ]
    }
   ],
   "source": [
    "def testLignesEgales(l):\n",
    "    \"\"\" Renvoie la somme des éléments d'une ligne de la liste 2D carre si toutes les lignes ont la même somme, et -1 sinon \"\"\"\n",
    "    som = []\n",
    "    for i in range(4):\n",
    "        s = 0\n",
    "        for j in range(4):\n",
    "            s = s + l[i][j]\n",
    "        som.append(s)\n",
    "    print(som)\n",
    "\n",
    "    test = True\n",
    "    for i in range(4):\n",
    "        if som[i] != som[0]:\n",
    "            test = False\n",
    "\n",
    "    if test == True:\n",
    "        return som[0]\n",
    "    else:\n",
    "        return -1\n",
    "\n",
    "\n",
    "print(testLignesEgales(carre_mag))\n",
    "print()\n",
    "print(testLignesEgales(carre_pas_mag))\n",
    "\n"
   ]
  },
  {
   "cell_type": "code",
   "execution_count": null,
   "metadata": {},
   "outputs": [],
   "source": [
    "def testLignesEgales(l):\n",
    "    \"\"\" Renvoie la somme des éléments d'une ligne de la liste 2D carre si toutes les lignes ont la même somme, et -1 sinon \"\"\"\n",
    "    som = []\n",
    "    for i in range(4):\n",
    "        s = 0      \n",
    "        for j in range(4):\n",
    "            s = s + l[i][j]\n",
    "        som.append(s)\n",
    "    print(som)\n",
    "\n",
    "    test = True\n",
    "    for i in range(4):\n",
    "       if som[i] != som[0]:\n",
    "           test = False\n",
    "    \n",
    "    if test == True:\n",
    "        return som[0]\n",
    "    else:\n",
    "        return -1\n",
    "        \n",
    "\n",
    "print(testLignesEgales(carre_mag))\n",
    "print()\n",
    "print(testLignesEgales(carre_pas_mag))\n"
   ]
  },
  {
   "source": [
    "6. Même question mais en testant les colonnes."
   ],
   "cell_type": "markdown",
   "metadata": {}
  },
  {
   "cell_type": "code",
   "execution_count": 47,
   "metadata": {},
   "outputs": [
    {
     "output_type": "stream",
     "name": "stdout",
     "text": [
      "4 14 15 1 \n9 7 6 12 \n5 11 10 8 \n16 2 3 13 \n\n[34, 34, 34, 34]\n34\n\n4 14 15 1 \n9 7 6 12 \n5 11 10 8 \n16 2 7 13 \n\n[34, 34, 38, 34]\n-1\n"
     ]
    }
   ],
   "source": [
    "def testColonnesEgales(l):\n",
    "    \"\"\" Renvoie la somme des éléments d'une colonne de la liste 2D carre si toutes les colonnes ont la même somme, et -1 sinon \"\"\"\n",
    "    som = []\n",
    "    for j in range(4):\n",
    "        s = 0        \n",
    "        for i in range(4):\n",
    "            s = s + l[i][j]\n",
    "        som.append(s)\n",
    "    print(som)\n",
    "    \n",
    "    test = True\n",
    "    for j in range(4):\n",
    "        if som[j] != som[0]:\n",
    "           test = False\n",
    "    \n",
    "    if test == True:\n",
    "        return som[0]\n",
    "    else:\n",
    "        return -1\n",
    "\n",
    "\n",
    "afficheCarre(carre_mag)\n",
    "print()\n",
    "print(testColonnesEgales(carre_mag))\n",
    "print()\n",
    "afficheCarre(carre_pas_mag)\n",
    "print()\n",
    "print(testColonnesEgales(carre_pas_mag))"
   ]
  },
  {
   "source": [
    "7. Même question mais en testant les 2 diagonales."
   ],
   "cell_type": "markdown",
   "metadata": {}
  },
  {
   "cell_type": "code",
   "execution_count": 48,
   "metadata": {},
   "outputs": [
    {
     "output_type": "stream",
     "name": "stdout",
     "text": [
      "[34, 34]\n34\n[34, 34]\n34\n"
     ]
    }
   ],
   "source": [
    "def testDiagonalesEgales(l):\n",
    "    \"\"\" Renvoie la somme des éléments d'une diagonale de la liste 2D carre si les 2 diagonales ont la même somme, et -1 sinon \"\"\"\n",
    "    som = []\n",
    "\n",
    "    s = 0       #Première diagonale descendante\n",
    "    for i in range(4):\n",
    "        s = s + l[i][i]\n",
    "    som.append(s)\n",
    "\n",
    "    s = 0       #Deuxième diagonale ascendante\n",
    "    for i in range(4):\n",
    "        s = s + l[i][4-1-i]\n",
    "    som.append(s)\n",
    "    print(som)\n",
    "    \n",
    "    test = True\n",
    "    for i in range(2):\n",
    "        if som[i] != som[0]:\n",
    "           test = False\n",
    "    \n",
    "    if test == True:\n",
    "        return som[0]\n",
    "    else:\n",
    "        return -1\n",
    "\n",
    "\n",
    "print(testDiagonalesEgales(carre_mag))\n",
    "print(testDiagonalesEgales(carre_pas_mag))"
   ]
  },
  {
   "source": [
    "8. Créer une fonction qui teste si un carré est magique. Elle retourne `True` si c'est le cas et `False` sinon."
   ],
   "cell_type": "markdown",
   "metadata": {}
  },
  {
   "cell_type": "code",
   "execution_count": 49,
   "metadata": {},
   "outputs": [
    {
     "output_type": "stream",
     "name": "stdout",
     "text": [
      "[34, 34, 34, 34]\n[34, 34, 34, 34]\n[34, 34]\nTrue\n[34, 34, 34, 38]\n[34, 34, 38, 34]\n[34, 34]\nFalse\n"
     ]
    }
   ],
   "source": [
    "def estCarreMagique(l):\n",
    "    \"\"\" Renvoie True si c'est un carre magique et False sinon\"\"\"\n",
    "    test = True\n",
    "    if testLignesEgales(l) == -1:\n",
    "        test = False\n",
    "    if testColonnesEgales(l) == -1:\n",
    "        test = False\n",
    "    if testDiagonalesEgales(l) == -1:\n",
    "        test = False\n",
    "    return test\n",
    "\n",
    "\n",
    "print(estCarreMagique(carre_mag))\n",
    "print(estCarreMagique(carre_pas_mag))"
   ]
  },
  {
   "source": [
    "9. Un carré d'ordre $n$ est *normal* s'il contient tous les entiers de 1 à $n^2$. Ecrire une fonction qui teste si un carré est normal (pas nécessairement magique)."
   ],
   "cell_type": "markdown",
   "metadata": {}
  },
  {
   "cell_type": "code",
   "execution_count": 54,
   "metadata": {},
   "outputs": [
    {
     "output_type": "stream",
     "name": "stdout",
     "text": [
      "4 14 15 1 \n9 7 6 12 \n5 11 10 8 \n16 2 3 13 \nListe : [4, 14, 15, 1, 9, 7, 6, 12, 5, 11, 10, 8, 16, 2, 3, 13]\nListe triée : [1, 2, 3, 4, 5, 6, 7, 8, 9, 10, 11, 12, 13, 14, 15, 16]\nTrue\n\nListe : [4, 14, 15, 1, 9, 7, 6, 12, 5, 11, 10, 8, 16, 2, 7, 13]\nListe triée : [1, 2, 4, 5, 6, 7, 7, 8, 9, 10, 11, 12, 13, 14, 15, 16]\nFalse\n"
     ]
    }
   ],
   "source": [
    "def estNormal(carre):\n",
    "    \"\"\" Retourne True si contient toutes les valeurs de 1 à n^2 où n est la taille \n",
    "        du carré, et False sinon \"\"\"\n",
    "    n = 4\n",
    "    liste = []\n",
    "    for i in range(n):\n",
    "        for j in range(n):\n",
    "            liste.append(carre[i][j])\n",
    "    print(\"Liste :\", liste)\n",
    "\n",
    "    liste.sort()\n",
    "    print(\"Liste triée :\", liste)\n",
    "\n",
    "    test = True\n",
    "    for i in range(n**2):\n",
    "        if liste[i] != i + 1:\n",
    "            test = False\n",
    "\n",
    "    return test\n",
    "    \n",
    "\n",
    "\n",
    "afficheCarre(carre_mag)\n",
    "print(estNormal(carre_mag))\n",
    "print()\n",
    "print(estNormal(carre_pas_mag))"
   ]
  },
  {
   "cell_type": "raw",
   "metadata": {},
   "source": [
    "Ecrire l'expression qui donne l'avant-dernier chiffre du nombre référencé par la variable `a`."
   ]
  },
  {
   "cell_type": "raw",
   "metadata": {},
   "source": [
    "Ecrire l'expression qui donne le dernier chiffre du nombre référencé par la variable `a`."
   ]
  }
 ],
 "metadata": {
  "kernelspec": {
   "display_name": "Python 3",
   "language": "python",
   "name": "python3"
  },
  "language_info": {
   "codemirror_mode": {
    "name": "ipython",
    "version": 3
   },
   "file_extension": ".py",
   "mimetype": "text/x-python",
   "name": "python",
   "nbconvert_exporter": "python",
   "pygments_lexer": "ipython3",
   "version": "3.8.5-final"
  }
 },
 "nbformat": 4,
 "nbformat_minor": 1
}