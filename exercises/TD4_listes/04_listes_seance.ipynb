{
 "cells": [
  {
   "cell_type": "markdown",
   "metadata": {},
   "source": [
    "# TD 4: Listes"
   ]
  },
  {
   "cell_type": "markdown",
   "metadata": {},
   "source": [
    "---\n",
    "\n",
    "## 1. Débuts avec les listes\n",
    "\n",
    "Dans cette partie, il faut écrire les réponses directement dans le notebook. En plus du cours, n'hésitez pas à consulter la documentation (tutoriel) Python sur les listes [ici (introduction aux listes)](https://docs.python.org/fr/3.6/tutorial/introduction.html#lists) et [ici (complément sur les listes)] (https://docs.python.org/fr/3/tutorial/datastructures.html#more-on-lists).\n",
    "\n",
    "1. Créer la liste `3, 5, 10`, l'affecter à une variable, puis l'afficher."
   ]
  },
  {
   "cell_type": "code",
   "execution_count": 18,
   "metadata": {},
   "outputs": [
    {
     "output_type": "stream",
     "name": "stdout",
     "text": [
      "[3, 5, 10]\n"
     ]
    }
   ],
   "source": [
    "liste = [3, 5, 10]\n",
    "\n",
    "print(liste)"
   ]
  },
  {
   "source": [
    "2. Ajouter ensuite 12 et 17 à la fin puis afficher à nouveau la liste."
   ],
   "cell_type": "markdown",
   "metadata": {}
  },
  {
   "cell_type": "code",
   "execution_count": 19,
   "metadata": {},
   "outputs": [
    {
     "output_type": "stream",
     "name": "stdout",
     "text": [
      "[3, 5, 10, 12, 17]\n"
     ]
    }
   ],
   "source": [
    "liste.append(12)\n",
    "liste.append(17)\n",
    "print(liste)"
   ]
  },
  {
   "source": [
    "3. Changer le 10 en -7."
   ],
   "cell_type": "markdown",
   "metadata": {}
  },
  {
   "cell_type": "code",
   "execution_count": 20,
   "metadata": {},
   "outputs": [
    {
     "output_type": "stream",
     "name": "stdout",
     "text": [
      "2\n[3, 5, -7, 12, 17]\n"
     ]
    },
    {
     "output_type": "execute_result",
     "data": {
      "text/plain": [
       "'\\nliste.insert(i, -7)\\nprint(liste)\\n\\nliste.remove(10)\\nprint(liste)\\n'"
      ]
     },
     "metadata": {},
     "execution_count": 20
    }
   ],
   "source": [
    "i = liste.index(10)\n",
    "print(i)\n",
    "\n",
    "liste[i] = -7\n",
    "print(liste)\n",
    "\n",
    "\"\"\"\n",
    "liste.insert(i, -7)\n",
    "print(liste)\n",
    "\n",
    "liste.remove(10)\n",
    "print(liste)\n",
    "\"\"\"\n",
    "\n",
    "\n"
   ]
  },
  {
   "source": [
    "4. Avec une boucle `for`, écrire le double de chaque élément de la liste. Cela doit afficher `[6, 10, -14, 24, 34]`. La liste doit être modifiée."
   ],
   "cell_type": "markdown",
   "metadata": {}
  },
  {
   "cell_type": "code",
   "execution_count": 21,
   "metadata": {},
   "outputs": [
    {
     "output_type": "stream",
     "name": "stdout",
     "text": [
      "5\n[6, 10, -14, 24, 34]\n"
     ]
    }
   ],
   "source": [
    "L = len(liste)\n",
    "print(L)\n",
    "\n",
    "for i in range(L):\n",
    "    # liste[i] = liste[i]*2\n",
    "    liste[i] *= 2\n",
    "print(liste)"
   ]
  },
  {
   "source": [
    "5. A l'aide d'une boucle `for`, ajouter  la valeur `i` à l'élément d'indice `i` de la liste. Cela doit afficher `[6, 11, -12, 27, 38]`. La liste doit être modifiée."
   ],
   "cell_type": "markdown",
   "metadata": {}
  },
  {
   "cell_type": "code",
   "execution_count": 22,
   "metadata": {},
   "outputs": [
    {
     "output_type": "stream",
     "name": "stdout",
     "text": [
      "[6, 11, -12, 27, 38]\n"
     ]
    }
   ],
   "source": [
    "for i in range(len(liste)):\n",
    "    # liste[i] = liste[i] + i\n",
    "    liste[i] += i\n",
    "print(liste)"
   ]
  },
  {
   "source": [
    "6. Tirer 10 nombres à 2 chiffres au hasard et les mettre dans une nouvelle liste (vide au départ), puis afficher la somme des entiers de la liste et le plus grand de ces entiers."
   ],
   "cell_type": "markdown",
   "metadata": {}
  },
  {
   "cell_type": "code",
   "execution_count": 23,
   "metadata": {},
   "outputs": [
    {
     "output_type": "stream",
     "name": "stdout",
     "text": [
      "[65, 95, 85, 10, 7, 72, 81, 49, 34, 22]\nSomme : 520\nMaxi : 95\n\nSum : 520\nMax : 95\n"
     ]
    }
   ],
   "source": [
    "import random\n",
    "\n",
    "l = []\n",
    "for i in range(10):\n",
    "    l.append(random.randint(0,99))\n",
    "print(l)\n",
    "\n",
    "\n",
    "som = 0\n",
    "for i in range(len(l)):\n",
    "    som = som + l[i]\n",
    "print(\"Somme :\", som)\n",
    "\n",
    "\n",
    "maxi = 0\n",
    "for i in range(len(l)):\n",
    "    if l[i] > maxi:\n",
    "        maxi = l[i]\n",
    "print(\"Maxi :\", maxi)\n",
    "\n",
    "\n",
    "print()\n",
    "print(\"Sum :\", sum(l))\n",
    "print(\"Max :\", max(l))\n"
   ]
  },
  {
   "source": [
    "7. A partir de la liste choisie au hasard, créer une liste qui contient les éléments pairs et une deuxième liste qui contient les éléments impairs."
   ],
   "cell_type": "markdown",
   "metadata": {}
  },
  {
   "cell_type": "code",
   "execution_count": 24,
   "metadata": {},
   "outputs": [
    {
     "output_type": "stream",
     "name": "stdout",
     "text": [
      "[65, 95, 85, 10, 7, 72, 81, 49, 34, 22]\n",
      "Paire : [10, 72, 34, 22]\n",
      "Impaire : [65, 95, 85, 7, 81, 49]\n"
     ]
    }
   ],
   "source": [
    "print(l)\n",
    "\n",
    "paire = []\n",
    "impaire = []\n",
    "\n",
    "for i in range(len(l)):\n",
    "    if l[i] % 2 == 0:\n",
    "        paire.append(l[i])\n",
    "    else:\n",
    "        impaire.append(l[i])\n",
    "\n",
    "print(\"Paire :\", paire)\n",
    "print(\"Impaire :\", impaire)"
   ]
  },
  {
   "source": [
    "8. Trier la liste choisie au hasard par ordre croissant en modifiant la liste."
   ],
   "cell_type": "markdown",
   "metadata": {}
  },
  {
   "cell_type": "code",
   "execution_count": 25,
   "metadata": {},
   "outputs": [
    {
     "output_type": "stream",
     "name": "stdout",
     "text": [
      "[7, 10, 22, 34, 49, 65, 72, 81, 85, 95]\n"
     ]
    }
   ],
   "source": [
    "l.sort()\n",
    "print(l)"
   ]
  },
  {
   "source": [
    "9. Supprimer le plus petit et le plus grand élément de la liste triée."
   ],
   "cell_type": "markdown",
   "metadata": {}
  },
  {
   "cell_type": "code",
   "execution_count": 26,
   "metadata": {},
   "outputs": [
    {
     "output_type": "stream",
     "name": "stdout",
     "text": [
      "[10, 22, 34, 49, 65, 72, 81, 85, 95]\n",
      "[10, 22, 34, 49, 65, 72, 81, 85]\n"
     ]
    }
   ],
   "source": [
    "\n",
    "l.remove(min(l))\n",
    "print(l)\n",
    "\n",
    "l.remove(max(l))\n",
    "print(l)\n",
    "\n"
   ]
  },
  {
   "cell_type": "code",
   "execution_count": 27,
   "metadata": {},
   "outputs": [
    {
     "output_type": "stream",
     "name": "stdout",
     "text": [
      "[22, 34, 49, 65, 72, 81, 85]\n[22, 34, 49, 65, 72, 81]\n"
     ]
    }
   ],
   "source": [
    "l.remove(l[0])\n",
    "print(l)\n",
    "\n",
    "l.remove(l[-1])\n",
    "print(l)"
   ]
  },
  {
   "source": [
    "10. Créer la liste des entiers de 1 jusqu'à 52. Ces entiers représentent les cartes d'un paquet de 52 cartes."
   ],
   "cell_type": "markdown",
   "metadata": {}
  },
  {
   "cell_type": "code",
   "execution_count": 28,
   "metadata": {},
   "outputs": [
    {
     "output_type": "stream",
     "name": "stdout",
     "text": [
      "[1, 2, 3, 4, 5, 6, 7, 8, 9, 10, 11, 12, 13, 14, 15, 16, 17, 18, 19, 20, 21, 22, 23, 24, 25, 26, 27, 28, 29, 30, 31, 32, 33, 34, 35, 36, 37, 38, 39, 40, 41, 42, 43, 44, 45, 46, 47, 48, 49, 50, 51, 52]\n"
     ]
    }
   ],
   "source": [
    "l = []\n",
    "for i in range(1,53):\n",
    "    l.append(i)\n",
    "print(l)\n",
    "\n"
   ]
  },
  {
   "source": [
    " 11. Couper le jeu de carte revient à choisir un indice `i` entre 0 et 51, et à passer toutes les cartes allant des indices 0 à i-1 à la suite des cartes qui vont des indices i à 51. Ecrire le code qui effectue une coupe choisie au hasard."
   ],
   "cell_type": "markdown",
   "metadata": {}
  },
  {
   "cell_type": "code",
   "execution_count": 29,
   "metadata": {},
   "outputs": [
    {
     "output_type": "stream",
     "name": "stdout",
     "text": [
      "[1, 2, 3, 4, 5, 6, 7, 8, 9, 10, 11, 12, 13, 14, 15, 16, 17, 18, 19, 20, 21, 22, 23, 24, 25, 26, 27, 28, 29, 30, 31, 32, 33, 34]\n[35, 36, 37, 38, 39, 40, 41, 42, 43, 44, 45, 46, 47, 48, 49, 50, 51, 52]\n[35, 36, 37, 38, 39, 40, 41, 42, 43, 44, 45, 46, 47, 48, 49, 50, 51, 52, 1, 2, 3, 4, 5, 6, 7, 8, 9, 10, 11, 12, 13, 14, 15, 16, 17, 18, 19, 20, 21, 22, 23, 24, 25, 26, 27, 28, 29, 30, 31, 32, 33, 34]\n"
     ]
    }
   ],
   "source": [
    "\n",
    "i = 34\n",
    "\n",
    "inf = []\n",
    "for j in range(0, i):\n",
    "    inf.append(l[j])\n",
    "print(inf)\n",
    "\n",
    "sup = []\n",
    "for j in range(i, len(l)):\n",
    "    sup.append(l[j])\n",
    "print(sup)\n",
    "\n",
    "liste_coupe = sup + inf\n",
    "print(liste_coupe)"
   ]
  },
  {
   "cell_type": "code",
   "execution_count": 30,
   "metadata": {},
   "outputs": [
    {
     "output_type": "stream",
     "name": "stdout",
     "text": [
      "[35, 36, 37, 38, 39, 40, 41, 42, 43, 44, 45, 46, 47, 48, 49, 50, 51, 52, 1, 2, 3, 4, 5, 6, 7, 8, 9, 10, 11, 12, 13, 14, 15, 16, 17, 18, 19, 20, 21, 22, 23, 24, 25, 26, 27, 28, 29, 30, 31, 32, 33, 34]\n"
     ]
    }
   ],
   "source": [
    "i = 34\n",
    "\n",
    "liste_coupe = []\n",
    "liste_coupe = l[i:52] + l[0:i]\n",
    "\n",
    "print(liste_coupe)"
   ]
  },
  {
   "cell_type": "code",
   "execution_count": 31,
   "metadata": {},
   "outputs": [
    {
     "output_type": "stream",
     "name": "stdout",
     "text": [
      "Help on function dessin in module __main__:\n",
      "\n",
      "dessin(taille, couleur='Rouge', forme='Carré')\n",
      "    Fonction qui fait....................................\n",
      "\n",
      "rond vert de taille 15\n"
     ]
    }
   ],
   "source": [
    "def dessin(taille, couleur='Rouge', forme='Carré'):\n",
    "    \"\"\"Fonction qui fait....................................\"\"\"\n",
    "    print(forme, couleur, \"de taille\", taille)\n",
    "\n",
    "help(dessin)\n",
    "dessin(forme='rond', taille=15, couleur='vert')"
   ]
  },
  {
   "source": [
    "---\n",
    "\n",
    "## 2. Problème de Syracuse\n",
    "\n",
    "Cette partie est à traiter dans un script que vous pouvez appeler, par exemple, `syracuse.py`.\n",
    "\n",
    "En partant d'un entier `n` de départ, on définit une suite d'entiers en obtenant chaque nouveau terme à partir du précédent soit en le divisant par 2 s'il est pair, soit en le multipliant par 3 et en ajoutant 1 s'il est impair. \n",
    "\n",
    "1. Sans écrire de programme, calculer les premières valeurs de la suite en chosissant `n = 3`.\n",
    "\n",
    "2. Ecrire la fonction qui, à partir d'un entier initial, renvoie la liste des valeurs successives jusqu'à ce que la valeur `1` soit atteinte (le dernier élément de la liste est donc toujours 1)."
   ],
   "cell_type": "markdown",
   "metadata": {}
  },
  {
   "cell_type": "code",
   "execution_count": 32,
   "metadata": {},
   "outputs": [
    {
     "output_type": "stream",
     "name": "stdout",
     "text": [
      "[3, 10, 5, 16, 8, 4, 2, 1]\n"
     ]
    }
   ],
   "source": [
    "def syracuse(n):\n",
    "    \"\"\" Retourne la liste des valeurs de la suite en partant de n jusqu'à 1 \"\"\"\n",
    "    l = [n]\n",
    "    while n != 1:\n",
    "        if n % 2 == 0:\n",
    "            n = n // 2\n",
    "        else:\n",
    "            n = n * 3 + 1\n",
    "        l.append(n)\n",
    "    return l\n",
    "\n",
    "print(syracuse(3))"
   ]
  },
  {
   "source": [
    "3. La conjecture de Collatz (ou problème de Syracuse) affirme que, quel que soit l’entier `n` que l’on choisisse au départ, on finit toujours par arriver à 1 (ce résultat est une *conjecture*, c'est-à-dire qu'il n'a pas été démontré, mais qu'il n'existe pas de contre-exemple connu). Écrire une fonction qui, en appelant la fonction précédente, va vérifier si la conjecture est vraie pour `n` de 1 à `n_max`, où `n_max` est un paramètre de la fonction. \n",
    "\n",
    "*Remarque*: si tout se passe bien, la fonction doit juste se terminer et renvoyer `True` par exemple. Sinon, c’est qu’on sera entré dans une boucle infinie."
   ],
   "cell_type": "markdown",
   "metadata": {}
  },
  {
   "cell_type": "code",
   "execution_count": 33,
   "metadata": {
    "tags": []
   },
   "outputs": [
    {
     "output_type": "stream",
     "name": "stdout",
     "text": [
      "n = 1    [1]\nn = 2    [2, 1]\nn = 3    [3, 10, 5, 16, 8, 4, 2, 1]\nn = 4    [4, 2, 1]\nn = 5    [5, 16, 8, 4, 2, 1]\nn = 6    [6, 3, 10, 5, 16, 8, 4, 2, 1]\nn = 7    [7, 22, 11, 34, 17, 52, 26, 13, 40, 20, 10, 5, 16, 8, 4, 2, 1]\nn = 8    [8, 4, 2, 1]\nn = 9    [9, 28, 14, 7, 22, 11, 34, 17, 52, 26, 13, 40, 20, 10, 5, 16, 8, 4, 2, 1]\nn = 10    [10, 5, 16, 8, 4, 2, 1]\nTrue\n"
     ]
    }
   ],
   "source": [
    "def testeConjecture(n_max):\n",
    "    \"\"\" Teste la conjecture de Collatz pour toutes les valeurs de 2 à n_max \"\"\"\n",
    "    test = True\n",
    "    for n in range(1, n_max + 1):\n",
    "        l = syracuse(n)\n",
    "        print(\"n =\", n, \"  \", l)\n",
    "        if l[-1] != 1:\n",
    "            test = False\n",
    "    return test\n",
    "\n",
    "print(testeConjecture(10))\n"
   ]
  },
  {
   "source": [
    "4. On appelle *temps de vol* de l’entier `n` le nombre d’étapes pour aller de `n` jusqu’à 1. Le temps de vol de 1 est 0, le temps de vol de 3 est 7. Écrire une fonction qui, étant donné un paramètre `n`, renvoie son temps de vol."
   ],
   "cell_type": "markdown",
   "metadata": {}
  },
  {
   "cell_type": "code",
   "execution_count": 34,
   "metadata": {},
   "outputs": [
    {
     "output_type": "stream",
     "name": "stdout",
     "text": [
      "Le temps de vol de 3 est 7\n"
     ]
    }
   ],
   "source": [
    "def tempsVol(n):\n",
    "    \"\"\" Retourne le temps de vol de n \"\"\"\n",
    "    l = syracuse(n)\n",
    "    t = len(l) - 1\n",
    "    return t\n",
    "\n",
    "print(\"Le temps de vol de\", 3, \"est\", tempsVol(3))"
   ]
  },
  {
   "source": [
    "5. Ecrire une fonction qui, étant donné un paramètre `n_max` renvoie la liste des temps de vol de tous les entiers de 1 à `n_max`. *Indication*: utiliser une liste en compréhension."
   ],
   "cell_type": "markdown",
   "metadata": {}
  },
  {
   "cell_type": "code",
   "execution_count": 35,
   "metadata": {},
   "outputs": [
    {
     "output_type": "stream",
     "name": "stdout",
     "text": [
      "[0, 1, 7, 2, 5, 8, 16, 3, 19, 6]\n"
     ]
    }
   ],
   "source": [
    "def tempsVolListe(n_max):\n",
    "    \"\"\" Retourne la liste de tous les temps de vol de 1 à n_max \"\"\"\n",
    "    l = []\n",
    "    for n in range(1, n_max + 1):\n",
    "        l.append(tempsVol(n))\n",
    "    return l\n",
    "\n",
    "l = tempsVolListe(10)\n",
    "print(l)"
   ]
  },
  {
   "source": [
    "6. Déterminer quel entier entre 1 et 10000 a le plus grand temps de vol (réponse 6171 qui a le temps de vol 261)."
   ],
   "cell_type": "markdown",
   "metadata": {}
  },
  {
   "source": [
    "7. L’altitude maximale de l'entier `n` est la plus grande valeur par laquelle passe `n` au cours de son vol. Déterminer quel entier entre 1 et 10000 a la plus grande altitude maximale (réponse 27114424, atteint par l'entier 9663). Ne pas hésiter à écrire de nouvelles fonctions pour cela."
   ],
   "cell_type": "markdown",
   "metadata": {}
  },
  {
   "source": [
    "---\n",
    "\n",
    "## 3. Carré magique\n",
    "\n",
    "*Définition* extraite de [l'article Wikipedia sur le carré magique](https://fr.wikipedia.org/wiki/Carr%C3%A9_magique_(math%C3%A9matiques)): en mathématiques, un carré magique d’ordre $n$ est composé de $n^2$ entiers strictement positifs, écrits sous la forme d’un tableau carré. Ces nombres sont disposés de sorte que leurs sommes sur chaque rangée, sur chaque colonne et sur chaque diagonale principale soient égales. On nomme alors *constante magique* la valeur de ces sommes. \n",
    "\n",
    "Un exemple de carré magique:\n",
    "\n",
    "$$\\begin{bmatrix} 4 & 14 & 15 & 1 \\\\ 9 & 7 & 6 & 12 \\\\ 5 & 11 & 10 & 8 \\\\ 16 & 2 & 3 & 13 \\end{bmatrix}$$\n",
    "\n",
    "1. Sans écrire de programme, vérifier qu'il s'agit bien d'un carré magique, et donner sa constante magique.\n",
    "\n",
    "Les questions qui suivent doivent être traitées dans un script, qui peut s'appeler `carre_magique.py`. Pensez à utiliser [PythonTutor](http://pythontutor.com/) et les outils de programmation pour résoudre les problèmes qui pourraient survenir.\n",
    "\n",
    "2. Créer une liste à deux dimensions affectée à  la variable `carre_mag` contenant ce carré magique."
   ],
   "cell_type": "markdown",
   "metadata": {}
  },
  {
   "source": [
    "3. Créer une deuxième liste affectée à la variable `carre_pas_mag` qui ne soit pas magique à partir du carré magique en changeant le 3 en 7. "
   ],
   "cell_type": "markdown",
   "metadata": {}
  },
  {
   "source": [
    "4. Créer une fonction qui affiche la liste comme un carré."
   ],
   "cell_type": "markdown",
   "metadata": {}
  },
  {
   "cell_type": "code",
   "execution_count": null,
   "metadata": {},
   "outputs": [],
   "source": [
    "def afficheCarre(carre):\n",
    "    \"\"\" Affiche la liste à 2 dimensions carre comme un carré\"\"\"\n",
    "    pass\n",
    "\n",
    "afficheCarre(carre_mag)\n",
    "afficheCarre(carre_pas_mag)\n"
   ]
  },
  {
   "source": [
    "5. Ecrire une fonction qui teste si les lignes du carré ont toutes la même somme. Cette fonction renvoie cette somme si c'est le cas, et `-1` sinon."
   ],
   "cell_type": "markdown",
   "metadata": {}
  },
  {
   "cell_type": "code",
   "execution_count": null,
   "metadata": {},
   "outputs": [],
   "source": [
    "def testLignesEgales(carre):\n",
    "    \"\"\" Renvoie la somme des éléments d'une ligne de la liste 2D carre si toutes les lignes ont la même somme, et -1 sinon \"\"\"\n",
    "    pass\n",
    "\n",
    "print(testLignesEgales(carre_mag))\n",
    "print(testLignesEgales(carre_pas_mag))\n"
   ]
  },
  {
   "source": [
    "6. Même question mais en testant les colonnes."
   ],
   "cell_type": "markdown",
   "metadata": {}
  },
  {
   "cell_type": "code",
   "execution_count": null,
   "metadata": {},
   "outputs": [],
   "source": [
    "def testColonnesEgales(carre):\n",
    "    \"\"\" Renvoie la somme des éléments d'une colonne de la liste 2D carre si toutes les colonnes ont la même somme, et -1 sinon \"\"\"\n",
    "    pass\n",
    "\n",
    "print(testColonnesEgales(carre_mag))\n",
    "print(testColonnesEgales(carre_pas_mag))"
   ]
  },
  {
   "source": [
    "7. Même question mais en testant les 2 diagonales."
   ],
   "cell_type": "markdown",
   "metadata": {}
  },
  {
   "cell_type": "code",
   "execution_count": null,
   "metadata": {},
   "outputs": [],
   "source": [
    "def testDiagonalesEgales(carre):\n",
    "    \"\"\" Renvoie la somme des éléments d'une diagonale de la liste 2D carre si les 2 diagonales ont la même somme, et -1 sinon \"\"\"\n",
    "    pass\n",
    "\n",
    "print(testDiagonalesEgales(carre_mag))\n",
    "print(testDiagonalesEgales(carre_pas_mag))"
   ]
  },
  {
   "source": [
    "8. Créer une fonction qui teste si un carré est magique. Elle retourne `True` si c'est le cas et `False` sinon."
   ],
   "cell_type": "markdown",
   "metadata": {}
  },
  {
   "cell_type": "code",
   "execution_count": null,
   "metadata": {},
   "outputs": [],
   "source": [
    "def estCarreMagique(carre):\n",
    "    \"\"\" Renvoie True si c'est un carre magique et False sinon\"\"\"\n",
    "    pass\n",
    "\n",
    "print(estCarreMagique(carre_mag))\n",
    "print(estCarreMagique(carre_pas_mag))"
   ]
  },
  {
   "source": [
    "9. Un carré d'ordre $n$ est *normal* s'il contient tous les entiers de 1 à $n^2$. Ecrire une fonction qui teste si un carré est normal (pas nécessairement magique)."
   ],
   "cell_type": "markdown",
   "metadata": {}
  },
  {
   "cell_type": "code",
   "execution_count": null,
   "metadata": {},
   "outputs": [],
   "source": [
    "def estNormal(carre):\n",
    "    \"\"\" Retourne True si contient toutes les valeurs de 1 à n^2 où n est la taille \n",
    "        du carré, et False sinon \"\"\"\n",
    "    pass\n",
    "\n",
    "print(estNormal(carre_mag))\n",
    "print(estNormal(carre_pas_mag))"
   ]
  },
  {
   "cell_type": "raw",
   "metadata": {},
   "source": [
    "Ecrire l'expression qui donne l'avant-dernier chiffre du nombre référencé par la variable `a`."
   ]
  },
  {
   "cell_type": "raw",
   "metadata": {},
   "source": [
    "Ecrire l'expression qui donne le dernier chiffre du nombre référencé par la variable `a`."
   ]
  }
 ],
 "metadata": {
  "kernelspec": {
   "display_name": "Python 3",
   "language": "python",
   "name": "python3"
  },
  "language_info": {
   "codemirror_mode": {
    "name": "ipython",
    "version": 3
   },
   "file_extension": ".py",
   "mimetype": "text/x-python",
   "name": "python",
   "nbconvert_exporter": "python",
   "pygments_lexer": "ipython3",
   "version": "3.8.5-final"
  }
 },
 "nbformat": 4,
 "nbformat_minor": 1
}